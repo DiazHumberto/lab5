{
 "cells": [
  {
   "cell_type": "markdown",
   "id": "a5e55fd9-2e7d-40be-98a8-1638bac35c48",
   "metadata": {
    "tags": []
   },
   "source": [
    "# CRISP-DM Phase 3: Data Preparation"
   ]
  },
  {
   "cell_type": "markdown",
   "id": "a2ee12d9-6df5-4f00-9d59-5a7ed66c7a64",
   "metadata": {
    "jp-MarkdownHeadingCollapsed": true,
    "tags": []
   },
   "source": [
    "## Missing Values"
   ]
  },
  {
   "cell_type": "markdown",
   "id": "80606c04-f890-4614-af54-9efbbc60b197",
   "metadata": {
    "jp-MarkdownHeadingCollapsed": true,
    "tags": []
   },
   "source": [
    "### Simple Imputer\n",
    "    Univariate imputer for completing missing values with simple strategies."
   ]
  },
  {
   "cell_type": "code",
   "execution_count": 1,
   "id": "daeab6cc-7539-49dd-a1ed-d0f2401b0925",
   "metadata": {},
   "outputs": [
    {
     "name": "stdout",
     "output_type": "stream",
     "text": [
      "[[ 7.   2.   3. ]\n",
      " [ 4.   3.5  6. ]\n",
      " [10.   3.5  9. ]]\n"
     ]
    }
   ],
   "source": [
    "import numpy as np\n",
    "from sklearn.impute import SimpleImputer\n",
    "imp_mean = SimpleImputer(missing_values=np.nan, strategy='mean')\n",
    "imp_mean.fit([[7, 2, 3], [4, np.nan, 6], [10, 5, 9]])\n",
    "X = [[np.nan, 2, 3], [4, np.nan, 6], [10, np.nan, 9]]\n",
    "print(imp_mean.transform(X))"
   ]
  },
  {
   "cell_type": "markdown",
   "id": "43e2062a-a699-4551-8e09-6b039e2dd0d6",
   "metadata": {
    "jp-MarkdownHeadingCollapsed": true,
    "tags": []
   },
   "source": [
    "### KNN Imputer\n",
    "    Multivariate imputer that estimates missing features using nearest samples."
   ]
  },
  {
   "cell_type": "code",
   "execution_count": 2,
   "id": "f5c3a8d5-669b-4586-9c5c-5306186494fb",
   "metadata": {},
   "outputs": [
    {
     "data": {
      "text/plain": [
       "array([[1. , 2. , 4. ],\n",
       "       [3. , 4. , 3. ],\n",
       "       [5.5, 6. , 5. ],\n",
       "       [8. , 8. , 7. ]])"
      ]
     },
     "execution_count": 2,
     "metadata": {},
     "output_type": "execute_result"
    }
   ],
   "source": [
    "import numpy as np\n",
    "from sklearn.impute import KNNImputer\n",
    "X = [[1, 2, np.nan], [3, 4, 3], [np.nan, 6, 5], [8, 8, 7]]\n",
    "imputer = KNNImputer(n_neighbors=2)\n",
    "imputer.fit_transform(X)"
   ]
  },
  {
   "cell_type": "markdown",
   "id": "f0912850-346e-43c2-adc1-41cf72e9e816",
   "metadata": {
    "jp-MarkdownHeadingCollapsed": true,
    "tags": []
   },
   "source": [
    "## Outlier Detection"
   ]
  },
  {
   "cell_type": "markdown",
   "id": "13880f6a-deb9-429b-ad9c-073b9df185c7",
   "metadata": {
    "jp-MarkdownHeadingCollapsed": true,
    "tags": []
   },
   "source": [
    "### *Boxplot Approach*"
   ]
  },
  {
   "cell_type": "code",
   "execution_count": 3,
   "id": "34578f72-b148-4593-9ba9-a26693af4b53",
   "metadata": {},
   "outputs": [
    {
     "name": "stdout",
     "output_type": "stream",
     "text": [
      "min-max range: [26.00, 74.00]\n",
      "2 outliers detected in column input1\n",
      "\n",
      "min-max range: [32.00, 68.00]\n",
      "0 outliers detected in column input2\n",
      "\n"
     ]
    },
    {
     "data": {
      "image/png": "[encoded data removed]",
      "text/plain": [
       "<Figure size 640x480 with 1 Axes>"
      ]
     },
     "metadata": {},
     "output_type": "display_data"
    }
   ],
   "source": [
    "# import packages\n",
    "import pandas as pd\n",
    "\n",
    "# create a sample dataframe\n",
    "my_df = pd.DataFrame({\"input1\": [15,41,44,47,50,53,56,59,99],\n",
    "                      \"input2\": [29,41,44,47,50,53,56,59,66]})\n",
    "\n",
    "my_df.plot(kind = \"box\", vert = False)\n",
    "\n",
    "outlier_columns = [\"input1\", \"input2\"]\n",
    "\n",
    "for column in outlier_columns:\n",
    "    \n",
    "    lower_quartile = my_df[column].quantile(0.25)\n",
    "    upper_quartile = my_df[column].quantile(0.75)\n",
    "    iqr = upper_quartile - lower_quartile\n",
    "    iqr_extended = iqr * 1.5\n",
    "    min_border = lower_quartile - iqr_extended\n",
    "    max_border = upper_quartile + iqr_extended\n",
    "    print(f\"min-max range: [{min_border:.2f}, {max_border:.2f}]\")\n",
    "    \n",
    "    outliers = my_df[(my_df[column] < min_border) | (my_df[column] > max_border)].index\n",
    "    print(f\"{len(outliers)} outliers detected in column {column}\\n\")\n",
    "    \n",
    "    my_df.drop(outliers, inplace = True)"
   ]
  },
  {
   "cell_type": "markdown",
   "id": "a46f9da1-7096-42cb-b137-7672527dc7b0",
   "metadata": {
    "jp-MarkdownHeadingCollapsed": true,
    "tags": []
   },
   "source": [
    "### *Standard Deviation Approach*"
   ]
  },
  {
   "cell_type": "code",
   "execution_count": 4,
   "id": "8e748d08-9c7d-4ece-8d5e-99b5c289dd4f",
   "metadata": {},
   "outputs": [
    {
     "name": "stdout",
     "output_type": "stream",
     "text": [
      "min-max range: [-14.31, 117.42]\n",
      "0 outliers detected in column input1\n",
      "\n",
      "min-max range: [16.82, 82.07]\n",
      "0 outliers detected in column input2\n",
      "\n"
     ]
    },
    {
     "data": {
      "image/png": "[encoded data removed]",
      "text/plain": [
       "<Figure size 640x480 with 1 Axes>"
      ]
     },
     "metadata": {},
     "output_type": "display_data"
    }
   ],
   "source": [
    "# import packages\n",
    "import pandas as pd\n",
    "\n",
    "# create a sample dataframe\n",
    "my_df = pd.DataFrame({\"input1\": [15,41,44,47,50,53,56,59,99],\n",
    "                      \"input2\": [29,41,44,47,50,53,56,59,66]})\n",
    "\n",
    "my_df.plot(kind = \"box\", vert = False)\n",
    "\n",
    "outlier_columns = [\"input1\", \"input2\"]\n",
    "\n",
    "for column in outlier_columns:\n",
    "    \n",
    "    mean = my_df[column].mean()\n",
    "    std_dev = my_df[column].std()\n",
    "    \n",
    "    min_border = mean - std_dev * 3\n",
    "    max_border = mean + std_dev * 3\n",
    "    print(f\"min-max range: [{min_border:.2f}, {max_border:.2f}]\")\n",
    "    \n",
    "    outliers = my_df[(my_df[column] < min_border) | (my_df[column] > max_border)].index\n",
    "    print(f\"{len(outliers)} outliers detected in column {column}\\n\")\n",
    "    \n",
    "    my_df.drop(outliers, inplace = True)"
   ]
  },
  {
   "cell_type": "markdown",
   "id": "b3f4301e-961f-4ba0-a8f9-a57d9b89da79",
   "metadata": {
    "jp-MarkdownHeadingCollapsed": true,
    "tags": []
   },
   "source": [
    "## Data Transformation"
   ]
  },
  {
   "cell_type": "markdown",
   "id": "fc9b6197-a5c9-4b7f-bb61-43b77fd35e54",
   "metadata": {
    "jp-MarkdownHeadingCollapsed": true,
    "tags": []
   },
   "source": [
    "### Range Normalization"
   ]
  },
  {
   "cell_type": "code",
   "execution_count": 5,
   "id": "bbcd16ba-8af8-4fc7-bffc-a6a31183d83c",
   "metadata": {},
   "outputs": [
    {
     "name": "stdout",
     "output_type": "stream",
     "text": [
      "MinMaxScaler()\n",
      "[ 1. 18.] \n",
      "\n",
      "[[0.   0.  ]\n",
      " [0.25 0.25]\n",
      " [0.5  0.5 ]\n",
      " [1.   1.  ]] \n",
      "\n",
      "[[1.5 0. ]]\n"
     ]
    }
   ],
   "source": [
    "from sklearn.preprocessing import MinMaxScaler\n",
    "data = [[-1, 2], [-0.5, 6], [0, 10], [1, 18]]\n",
    "scaler = MinMaxScaler()\n",
    "print(scaler.fit(data))\n",
    "print(scaler.data_max_, '\\n')\n",
    "print(scaler.transform(data), '\\n')\n",
    "print(scaler.transform([[2, 2]]))"
   ]
  },
  {
   "cell_type": "markdown",
   "id": "c6a26299-1668-4903-9d87-fb7294ded149",
   "metadata": {
    "jp-MarkdownHeadingCollapsed": true,
    "tags": []
   },
   "source": [
    "### Standardization"
   ]
  },
  {
   "cell_type": "code",
   "execution_count": 6,
   "id": "63f45a45-e8a8-44a6-85d8-653bae868b94",
   "metadata": {},
   "outputs": [
    {
     "name": "stdout",
     "output_type": "stream",
     "text": [
      "StandardScaler()\n",
      "[1.5 2.5] \n",
      "\n",
      "[[-1.34164079 -1.34164079]\n",
      " [-0.4472136  -0.4472136 ]\n",
      " [ 0.4472136   0.4472136 ]\n",
      " [ 1.34164079  1.34164079]] \n",
      "\n",
      "[[ 0.4472136 -0.4472136]]\n"
     ]
    }
   ],
   "source": [
    "from sklearn.preprocessing import StandardScaler\n",
    "data = [[0, 1], [1, 2], [2, 3], [3, 4]]\n",
    "scaler = StandardScaler()\n",
    "print(scaler.fit(data))\n",
    "print(scaler.mean_, '\\n')\n",
    "print(scaler.transform(data), '\\n')\n",
    "print(scaler.transform([[2, 2]]))"
   ]
  },
  {
   "cell_type": "markdown",
   "id": "cbbf2380-fbe3-4cf1-b782-21a67f4ca86f",
   "metadata": {
    "jp-MarkdownHeadingCollapsed": true,
    "tags": []
   },
   "source": [
    "### Robust Scaler"
   ]
  },
  {
   "cell_type": "code",
   "execution_count": 7,
   "id": "f984c727-bc5a-40be-ba5d-fd702c431959",
   "metadata": {},
   "outputs": [
    {
     "name": "stdout",
     "output_type": "stream",
     "text": [
      "RobustScaler()\n"
     ]
    },
    {
     "data": {
      "text/plain": [
       "array([[ 0. , -2. ,  0. ],\n",
       "       [-1. ,  0. ,  0.4],\n",
       "       [ 1. ,  0. , -1.6]])"
      ]
     },
     "execution_count": 7,
     "metadata": {},
     "output_type": "execute_result"
    }
   ],
   "source": [
    "from sklearn.preprocessing import RobustScaler\n",
    "X = [[ 1., -2.,  2.],\n",
    "     [ -2.,  1.,  3.],\n",
    "     [ 4.,  1., -2.]]\n",
    "transformer = RobustScaler()\n",
    "print(transformer.fit(X))\n",
    "transformer.transform(X)"
   ]
  },
  {
   "cell_type": "markdown",
   "id": "69798e46-afbf-4f59-9509-636732fe9911",
   "metadata": {
    "jp-MarkdownHeadingCollapsed": true,
    "tags": []
   },
   "source": [
    "## Feature Encoding"
   ]
  },
  {
   "cell_type": "markdown",
   "id": "e1407a73-5cc4-43a5-8ece-c8746c59d845",
   "metadata": {
    "jp-MarkdownHeadingCollapsed": true,
    "tags": []
   },
   "source": [
    "### One-Hot Encoding"
   ]
  },
  {
   "cell_type": "code",
   "execution_count": 8,
   "id": "8aea1229-61f5-429d-b836-cac31a6de03e",
   "metadata": {},
   "outputs": [
    {
     "name": "stdout",
     "output_type": "stream",
     "text": [
      "  Temperature   Color  Target\n",
      "0         Hot     Red       1\n",
      "1        Cold  Yellow       1\n",
      "2    Very Hot    Blue       1\n",
      "3        Warm    Blue       0\n",
      "4         Hot     Red       1\n",
      "5        Warm  Yellow       0\n",
      "6        Warm     Red       1\n",
      "7         Hot  Yellow       0\n",
      "8         Hot  Yellow       1\n",
      "9        Cold  Yellow       1 \n",
      "\n",
      "    Color  Target  Temp_Cold  Temp_Hot  Temp_Very Hot  Temp_Warm\n",
      "0     Red       1          0         1              0          0\n",
      "1  Yellow       1          1         0              0          0\n",
      "2    Blue       1          0         0              1          0\n",
      "3    Blue       0          0         0              0          1\n",
      "4     Red       1          0         1              0          0\n",
      "5  Yellow       0          0         0              0          1\n",
      "6     Red       1          0         0              0          1\n",
      "7  Yellow       0          0         1              0          0\n",
      "8  Yellow       1          0         1              0          0\n",
      "9  Yellow       1          1         0              0          0 \n",
      "\n"
     ]
    }
   ],
   "source": [
    "import pandas as pd\n",
    "from sklearn.preprocessing import LabelEncoder\n",
    "# encoding example\n",
    "df = pd.read_csv(\"Data/encoding_data.csv\")\n",
    "print(df, \"\\n\")\n",
    "# one-hot encoding\n",
    "df1 = pd.get_dummies(df, prefix=['Temp'], columns=['Temperature'])\n",
    "print(df1, \"\\n\")"
   ]
  },
  {
   "cell_type": "markdown",
   "id": "01867d25-8652-4d40-babf-5b3aab2d2ca6",
   "metadata": {
    "jp-MarkdownHeadingCollapsed": true,
    "tags": []
   },
   "source": [
    "### Label Encoding"
   ]
  },
  {
   "cell_type": "code",
   "execution_count": 9,
   "id": "308f2216-1c68-44e4-9ef1-0db2defd0263",
   "metadata": {},
   "outputs": [
    {
     "name": "stdout",
     "output_type": "stream",
     "text": [
      "  Temperature   Color  Target  Temp_label_encoded\n",
      "0         Hot     Red       1                   1\n",
      "1        Cold  Yellow       1                   0\n",
      "2    Very Hot    Blue       1                   2\n",
      "3        Warm    Blue       0                   3\n",
      "4         Hot     Red       1                   1\n",
      "5        Warm  Yellow       0                   3\n",
      "6        Warm     Red       1                   3\n",
      "7         Hot  Yellow       0                   1\n",
      "8         Hot  Yellow       1                   1\n",
      "9        Cold  Yellow       1                   0 \n",
      "\n"
     ]
    }
   ],
   "source": [
    "# label encoding\n",
    "df2 = df.copy()\n",
    "df2['Temp_label_encoded'] = LabelEncoder().fit_transform(df2.Temperature)\n",
    "print(df2, \"\\n\")"
   ]
  },
  {
   "cell_type": "markdown",
   "id": "09c24267-dfa5-4c9f-bae5-07a5828f3d70",
   "metadata": {
    "jp-MarkdownHeadingCollapsed": true,
    "tags": []
   },
   "source": [
    "### Ordinal Encoding"
   ]
  },
  {
   "cell_type": "code",
   "execution_count": 10,
   "id": "dd24e774-3263-4ea7-8271-f1f25c44092f",
   "metadata": {},
   "outputs": [
    {
     "name": "stdout",
     "output_type": "stream",
     "text": [
      "  Temperature   Color  Target  Temp_Ordinal\n",
      "0         Hot     Red       1             3\n",
      "1        Cold  Yellow       1             1\n",
      "2    Very Hot    Blue       1             4\n",
      "3        Warm    Blue       0             2\n",
      "4         Hot     Red       1             3\n",
      "5        Warm  Yellow       0             2\n",
      "6        Warm     Red       1             2\n",
      "7         Hot  Yellow       0             3\n",
      "8         Hot  Yellow       1             3\n",
      "9        Cold  Yellow       1             1\n"
     ]
    }
   ],
   "source": [
    "# ordinal encoding\n",
    "df3 = df.copy()\n",
    "Temp_dict = { 'Cold' : 1,\n",
    "              'Warm' : 2,\n",
    "              'Hot' : 3,\n",
    "              'Very Hot' : 4}\n",
    "df3['Temp_Ordinal'] = df3.Temperature.map(Temp_dict)\n",
    "print(df3)\n"
   ]
  },
  {
   "cell_type": "markdown",
   "id": "f7b52e5e-79cf-4f33-accd-22d4e3ed466e",
   "metadata": {
    "jp-MarkdownHeadingCollapsed": true,
    "tags": []
   },
   "source": [
    "## Feature Selection"
   ]
  },
  {
   "cell_type": "markdown",
   "id": "cb03eae8-e1a8-48ee-a14f-a558627db69f",
   "metadata": {
    "jp-MarkdownHeadingCollapsed": true,
    "tags": []
   },
   "source": [
    "### *Data Generation*\n",
    "We build a classification task using 3 informative features. The introduction of 2 additional redundant (i.e. correlated) features has the effect that the selected features vary depending on the cross-validation fold. The remaining features are non-informative as they are drawn at random."
   ]
  },
  {
   "cell_type": "code",
   "execution_count": 11,
   "id": "8a59e593-ea98-47dc-bb76-731598a74e9b",
   "metadata": {},
   "outputs": [],
   "source": [
    "from sklearn.datasets import make_classification\n",
    "\n",
    "X, y = make_classification(\n",
    "    n_samples=500,\n",
    "    n_features=15,\n",
    "    n_informative=3,\n",
    "    n_redundant=2,\n",
    "    n_repeated=0,\n",
    "    n_classes=8,\n",
    "    n_clusters_per_class=1,\n",
    "    class_sep=0.8,\n",
    "    random_state=0,\n",
    ")"
   ]
  },
  {
   "cell_type": "code",
   "execution_count": 12,
   "id": "74edc4cd-ee85-4ce6-bef0-c170bc44664f",
   "metadata": {},
   "outputs": [
    {
     "name": "stdout",
     "output_type": "stream",
     "text": [
      "<class 'numpy.ndarray'>\n"
     ]
    },
    {
     "data": {
      "text/plain": [
       "(500, 15)"
      ]
     },
     "execution_count": 12,
     "metadata": {},
     "output_type": "execute_result"
    }
   ],
   "source": [
    "# rows aand columns in the dataset\n",
    "print(type(y))\n",
    "X.shape"
   ]
  },
  {
   "cell_type": "code",
   "execution_count": 13,
   "id": "92208336-4810-46e0-bd47-160f3c74dcbf",
   "metadata": {},
   "outputs": [
    {
     "data": {
      "text/html": [
       "<div>\n",
       "<style scoped>\n",
       "    .dataframe tbody tr th:only-of-type {\n",
       "        vertical-align: middle;\n",
       "    }\n",
       "\n",
       "    .dataframe tbody tr th {\n",
       "        vertical-align: top;\n",
       "    }\n",
       "\n",
       "    .dataframe thead th {\n",
       "        text-align: right;\n",
       "    }\n",
       "</style>\n",
       "<table border=\"1\" class=\"dataframe\">\n",
       "  <thead>\n",
       "    <tr style=\"text-align: right;\">\n",
       "      <th></th>\n",
       "      <th>x1</th>\n",
       "      <th>x2</th>\n",
       "      <th>x3</th>\n",
       "      <th>x4</th>\n",
       "      <th>x5</th>\n",
       "      <th>x6</th>\n",
       "      <th>x7</th>\n",
       "      <th>x8</th>\n",
       "      <th>x9</th>\n",
       "      <th>x10</th>\n",
       "      <th>x11</th>\n",
       "      <th>x12</th>\n",
       "      <th>x13</th>\n",
       "      <th>x14</th>\n",
       "      <th>x15</th>\n",
       "      <th>class</th>\n",
       "    </tr>\n",
       "  </thead>\n",
       "  <tbody>\n",
       "    <tr>\n",
       "      <th>0</th>\n",
       "      <td>0.731294</td>\n",
       "      <td>-0.216533</td>\n",
       "      <td>-0.340874</td>\n",
       "      <td>-0.148200</td>\n",
       "      <td>1.008335</td>\n",
       "      <td>-1.519974</td>\n",
       "      <td>-0.875155</td>\n",
       "      <td>-1.214217</td>\n",
       "      <td>-0.996134</td>\n",
       "      <td>-0.593520</td>\n",
       "      <td>-0.784221</td>\n",
       "      <td>0.662005</td>\n",
       "      <td>1.242494</td>\n",
       "      <td>-0.015533</td>\n",
       "      <td>0.366183</td>\n",
       "      <td>4</td>\n",
       "    </tr>\n",
       "    <tr>\n",
       "      <th>1</th>\n",
       "      <td>0.751100</td>\n",
       "      <td>0.644002</td>\n",
       "      <td>0.612681</td>\n",
       "      <td>-1.117313</td>\n",
       "      <td>0.927387</td>\n",
       "      <td>-0.583211</td>\n",
       "      <td>0.208233</td>\n",
       "      <td>0.071985</td>\n",
       "      <td>0.560383</td>\n",
       "      <td>-1.518869</td>\n",
       "      <td>-1.815889</td>\n",
       "      <td>0.317329</td>\n",
       "      <td>1.146432</td>\n",
       "      <td>-0.828459</td>\n",
       "      <td>0.764693</td>\n",
       "      <td>3</td>\n",
       "    </tr>\n",
       "    <tr>\n",
       "      <th>2</th>\n",
       "      <td>-0.331309</td>\n",
       "      <td>-0.553062</td>\n",
       "      <td>1.088335</td>\n",
       "      <td>-3.397496</td>\n",
       "      <td>-0.915364</td>\n",
       "      <td>-0.081549</td>\n",
       "      <td>1.546672</td>\n",
       "      <td>0.003616</td>\n",
       "      <td>0.170360</td>\n",
       "      <td>0.214406</td>\n",
       "      <td>1.222965</td>\n",
       "      <td>-1.877313</td>\n",
       "      <td>0.665589</td>\n",
       "      <td>2.126536</td>\n",
       "      <td>-2.046721</td>\n",
       "      <td>2</td>\n",
       "    </tr>\n",
       "    <tr>\n",
       "      <th>3</th>\n",
       "      <td>-0.220089</td>\n",
       "      <td>-1.082960</td>\n",
       "      <td>0.372484</td>\n",
       "      <td>1.645946</td>\n",
       "      <td>-1.444129</td>\n",
       "      <td>0.441780</td>\n",
       "      <td>-0.687050</td>\n",
       "      <td>0.007131</td>\n",
       "      <td>-0.289053</td>\n",
       "      <td>-0.015582</td>\n",
       "      <td>0.695707</td>\n",
       "      <td>-0.164745</td>\n",
       "      <td>0.203696</td>\n",
       "      <td>0.843476</td>\n",
       "      <td>-0.911910</td>\n",
       "      <td>6</td>\n",
       "    </tr>\n",
       "    <tr>\n",
       "      <th>4</th>\n",
       "      <td>-1.248949</td>\n",
       "      <td>-0.612639</td>\n",
       "      <td>-0.166153</td>\n",
       "      <td>0.928374</td>\n",
       "      <td>-1.674667</td>\n",
       "      <td>-1.381412</td>\n",
       "      <td>0.013985</td>\n",
       "      <td>0.107519</td>\n",
       "      <td>0.170197</td>\n",
       "      <td>-0.578942</td>\n",
       "      <td>-0.381290</td>\n",
       "      <td>-0.588813</td>\n",
       "      <td>-0.783499</td>\n",
       "      <td>0.973287</td>\n",
       "      <td>-1.151803</td>\n",
       "      <td>2</td>\n",
       "    </tr>\n",
       "  </tbody>\n",
       "</table>\n",
       "</div>"
      ],
      "text/plain": [
       "         x1        x2        x3        x4        x5        x6        x7  \\\n",
       "0  0.731294 -0.216533 -0.340874 -0.148200  1.008335 -1.519974 -0.875155   \n",
       "1  0.751100  0.644002  0.612681 -1.117313  0.927387 -0.583211  0.208233   \n",
       "2 -0.331309 -0.553062  1.088335 -3.397496 -0.915364 -0.081549  1.546672   \n",
       "3 -0.220089 -1.082960  0.372484  1.645946 -1.444129  0.441780 -0.687050   \n",
       "4 -1.248949 -0.612639 -0.166153  0.928374 -1.674667 -1.381412  0.013985   \n",
       "\n",
       "         x8        x9       x10       x11       x12       x13       x14  \\\n",
       "0 -1.214217 -0.996134 -0.593520 -0.784221  0.662005  1.242494 -0.015533   \n",
       "1  0.071985  0.560383 -1.518869 -1.815889  0.317329  1.146432 -0.828459   \n",
       "2  0.003616  0.170360  0.214406  1.222965 -1.877313  0.665589  2.126536   \n",
       "3  0.007131 -0.289053 -0.015582  0.695707 -0.164745  0.203696  0.843476   \n",
       "4  0.107519  0.170197 -0.578942 -0.381290 -0.588813 -0.783499  0.973287   \n",
       "\n",
       "        x15  class  \n",
       "0  0.366183      4  \n",
       "1  0.764693      3  \n",
       "2 -2.046721      2  \n",
       "3 -0.911910      6  \n",
       "4 -1.151803      2  "
      ]
     },
     "execution_count": 13,
     "metadata": {},
     "output_type": "execute_result"
    }
   ],
   "source": [
    "# create a pandas dataframe\n",
    "import pandas as pd\n",
    "df = pd.DataFrame(X, columns=['x'+str(i+1) for i in range(X.shape[1])])\n",
    "df = pd.concat([df, pd.DataFrame(y, columns=['class'])], axis=1)\n",
    "df.head()"
   ]
  },
  {
   "cell_type": "markdown",
   "id": "de4af5a4-b3b5-4b4d-8468-ce6e47b4ba2e",
   "metadata": {
    "jp-MarkdownHeadingCollapsed": true,
    "tags": []
   },
   "source": [
    "### *Feature Correlations*"
   ]
  },
  {
   "cell_type": "code",
   "execution_count": 14,
   "id": "922cde04-fa22-4541-9871-6bbde822e0f4",
   "metadata": {},
   "outputs": [
    {
     "data": {
      "text/plain": [
       "<AxesSubplot:>"
      ]
     },
     "execution_count": 14,
     "metadata": {},
     "output_type": "execute_result"
    },
    {
     "data": {
      "image/png": "[encoded data removed]",
      "text/plain": [
       "<Figure size 700x500 with 2 Axes>"
      ]
     },
     "metadata": {},
     "output_type": "display_data"
    }
   ],
   "source": [
    "import matplotlib.pyplot as plt\n",
    "import seaborn as sns\n",
    "import numpy as np\n",
    "\n",
    "# run correlation matrix and plot\n",
    "f, ax = plt.subplots(figsize=(7, 5))\n",
    "corr = df.corr()\n",
    "sns.heatmap(corr, mask=np.zeros_like(corr, dtype=np.bool_),\n",
    "            cmap=sns.diverging_palette(220, 10, as_cmap=True),\n",
    "            square=True, ax=ax)"
   ]
  },
  {
   "cell_type": "markdown",
   "id": "3d582593-e4db-4e32-b2c3-6a9b335a7e06",
   "metadata": {
    "jp-MarkdownHeadingCollapsed": true,
    "tags": []
   },
   "source": [
    "### *Model Training and Selection*\n",
    "We create the RFE object and compute the cross-validated scores. The scoring strategy “accuracy” optimizes the proportion of correctly classified samples."
   ]
  },
  {
   "cell_type": "code",
   "execution_count": 15,
   "id": "af71d9e7-9c7c-48f0-94d0-8dda8c14027a",
   "metadata": {},
   "outputs": [
    {
     "name": "stdout",
     "output_type": "stream",
     "text": [
      "Optimal number of features: 3\n"
     ]
    }
   ],
   "source": [
    "from sklearn.feature_selection import RFECV\n",
    "from sklearn.linear_model import LogisticRegression\n",
    "from sklearn.model_selection import StratifiedKFold\n",
    "\n",
    "min_features_to_select = 1  # Minimum number of features to consider\n",
    "clf = LogisticRegression()\n",
    "cv = StratifiedKFold(5)\n",
    "\n",
    "rfecv = RFECV(\n",
    "    estimator=clf,\n",
    "    step=1,\n",
    "    cv=cv,\n",
    "    scoring=\"accuracy\",\n",
    "    min_features_to_select=min_features_to_select,\n",
    "    n_jobs=2,\n",
    ")\n",
    "rfecv.fit(X, y)\n",
    "\n",
    "print(f\"Optimal number of features: {rfecv.n_features_}\")"
   ]
  },
  {
   "cell_type": "markdown",
   "id": "733948a2-8404-4fce-befc-8f7cc1279884",
   "metadata": {
    "jp-MarkdownHeadingCollapsed": true,
    "tags": []
   },
   "source": [
    "### *Plot Number of Features VS. Cross-Validation Scores*"
   ]
  },
  {
   "cell_type": "code",
   "execution_count": 16,
   "id": "ea16d223-3199-479f-a294-3bfc28c130e9",
   "metadata": {},
   "outputs": [
    {
     "data": {
      "image/png": "[encoded data removed]",
      "text/plain": [
       "<Figure size 640x480 with 1 Axes>"
      ]
     },
     "metadata": {},
     "output_type": "display_data"
    }
   ],
   "source": [
    "import matplotlib.pyplot as plt\n",
    "\n",
    "n_scores = len(rfecv.cv_results_[\"mean_test_score\"])\n",
    "plt.figure()\n",
    "plt.xlabel(\"Number of features selected\")\n",
    "plt.ylabel(\"Mean test accuracy\")\n",
    "plt.errorbar(\n",
    "    range(min_features_to_select, n_scores + min_features_to_select),\n",
    "    rfecv.cv_results_[\"mean_test_score\"],\n",
    "    yerr=rfecv.cv_results_[\"std_test_score\"],\n",
    ")\n",
    "plt.title(\"Recursive Feature Elimination \\nwith correlated features\")\n",
    "plt.show()"
   ]
  }
 ],
 "metadata": {
  "kernelspec": {
   "display_name": "Python 3 (ipykernel)",
   "language": "python",
   "name": "python3"
  },
  "language_info": {
   "codemirror_mode": {
    "name": "ipython",
    "version": 3
   },
   "file_extension": ".py",
   "mimetype": "text/x-python",
   "name": "python",
   "nbconvert_exporter": "python",
   "pygments_lexer": "ipython3",
   "version": "3.9.13"
  }
 },
 "nbformat": 4,
 "nbformat_minor": 5
}
