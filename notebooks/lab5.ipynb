{
 "cells": [
  {
   "cell_type": "markdown",
   "id": "15150e93-32bc-459f-8101-19461b26e171",
   "metadata": {},
   "source": [
    "# <center>Lab Excersice 5:  Exploratory data analysis (EDA). Data cleaning and preparation\n",
    "<center>Humberto Díaz <br>\n",
    "The University of Winnipeg <br>\n",
    "DIT 54102 AIW01: Foundations of Data Science <br>\n",
    "Muhammad Shahin PhD. <br>\n",
    "May 4, 2025 <br>"
   ]
  },
  {
   "cell_type": "markdown",
   "id": "e4b0b6f6-f999-42c7-b577-683757b2232d",
   "metadata": {},
   "source": [
    "#### Learning Objectives\n",
    "* Univariate, bivariate, and multivariate analysis\n",
    "* Data cleaning\n",
    "* Data preparation"
   ]
  },
  {
   "cell_type": "markdown",
   "id": "4edd7ce7-4ede-4ed5-9781-876abddc1750",
   "metadata": {},
   "source": [
    "### Loading Data"
   ]
  },
  {
   "cell_type": "code",
   "execution_count": 1,
   "id": "08eb518a-f345-451b-9ae9-2a27765255f7",
   "metadata": {},
   "outputs": [],
   "source": [
    "# Import the useful libraries.\n",
    "import numpy as np\n",
    "import pandas as pd\n",
    "import seaborn as sns\n",
    "import matplotlib.pyplot as plt"
   ]
  },
  {
   "cell_type": "code",
   "execution_count": 2,
   "id": "4eec0611-39c7-4c19-8861-1169c103d716",
   "metadata": {},
   "outputs": [
    {
     "name": "stderr",
     "output_type": "stream",
     "text": [
      "/var/folders/dk/g6kdw5nj5hb8tlfg5r6rfn300000gn/T/ipykernel_29408/2134428007.py:2: DtypeWarning: Columns (0,1,2,3,11,14,15,16) have mixed types. Specify dtype option on import or set low_memory=False.\n",
      "  marketing_data = pd.read_csv(\"/Users/eleazar/Documents/Projects/lab5/dataset/marketing_analysis.csv\")\n"
     ]
    },
    {
     "data": {
      "text/html": [
       "<div>\n",
       "<style scoped>\n",
       "    .dataframe tbody tr th:only-of-type {\n",
       "        vertical-align: middle;\n",
       "    }\n",
       "\n",
       "    .dataframe tbody tr th {\n",
       "        vertical-align: top;\n",
       "    }\n",
       "\n",
       "    .dataframe thead th {\n",
       "        text-align: right;\n",
       "    }\n",
       "</style>\n",
       "<table border=\"1\" class=\"dataframe\">\n",
       "  <thead>\n",
       "    <tr style=\"text-align: right;\">\n",
       "      <th></th>\n",
       "      <th>banking marketing</th>\n",
       "      <th>Unnamed: 1</th>\n",
       "      <th>Unnamed: 2</th>\n",
       "      <th>Unnamed: 3</th>\n",
       "      <th>Unnamed: 4</th>\n",
       "      <th>Unnamed: 5</th>\n",
       "      <th>Unnamed: 6</th>\n",
       "      <th>Unnamed: 7</th>\n",
       "      <th>Unnamed: 8</th>\n",
       "      <th>Unnamed: 9</th>\n",
       "      <th>Unnamed: 10</th>\n",
       "      <th>Unnamed: 11</th>\n",
       "      <th>Unnamed: 12</th>\n",
       "      <th>Unnamed: 13</th>\n",
       "      <th>Unnamed: 14</th>\n",
       "      <th>Unnamed: 15</th>\n",
       "      <th>Unnamed: 16</th>\n",
       "      <th>Unnamed: 17</th>\n",
       "      <th>Unnamed: 18</th>\n",
       "    </tr>\n",
       "  </thead>\n",
       "  <tbody>\n",
       "    <tr>\n",
       "      <th>0</th>\n",
       "      <td>customer id and age.</td>\n",
       "      <td>NaN</td>\n",
       "      <td>Customer salary and balance.</td>\n",
       "      <td>NaN</td>\n",
       "      <td>Customer marital status and job with education...</td>\n",
       "      <td>NaN</td>\n",
       "      <td>particular customer before targeted or not</td>\n",
       "      <td>NaN</td>\n",
       "      <td>Loan types: loans or housing loans</td>\n",
       "      <td>NaN</td>\n",
       "      <td>Contact type</td>\n",
       "      <td>NaN</td>\n",
       "      <td>month of contact</td>\n",
       "      <td>duration of call</td>\n",
       "      <td>NaN</td>\n",
       "      <td>NaN</td>\n",
       "      <td>NaN</td>\n",
       "      <td>outcome of previous contact</td>\n",
       "      <td>response of customer after call happned</td>\n",
       "    </tr>\n",
       "    <tr>\n",
       "      <th>1</th>\n",
       "      <td>customerid</td>\n",
       "      <td>age</td>\n",
       "      <td>salary</td>\n",
       "      <td>balance</td>\n",
       "      <td>marital</td>\n",
       "      <td>jobedu</td>\n",
       "      <td>targeted</td>\n",
       "      <td>default</td>\n",
       "      <td>housing</td>\n",
       "      <td>loan</td>\n",
       "      <td>contact</td>\n",
       "      <td>day</td>\n",
       "      <td>month</td>\n",
       "      <td>duration</td>\n",
       "      <td>campaign</td>\n",
       "      <td>pdays</td>\n",
       "      <td>previous</td>\n",
       "      <td>poutcome</td>\n",
       "      <td>response</td>\n",
       "    </tr>\n",
       "    <tr>\n",
       "      <th>2</th>\n",
       "      <td>1</td>\n",
       "      <td>58</td>\n",
       "      <td>100000</td>\n",
       "      <td>2143</td>\n",
       "      <td>married</td>\n",
       "      <td>management,tertiary</td>\n",
       "      <td>yes</td>\n",
       "      <td>no</td>\n",
       "      <td>yes</td>\n",
       "      <td>no</td>\n",
       "      <td>unknown</td>\n",
       "      <td>5</td>\n",
       "      <td>may, 2017</td>\n",
       "      <td>261 sec</td>\n",
       "      <td>1</td>\n",
       "      <td>-1</td>\n",
       "      <td>0</td>\n",
       "      <td>unknown</td>\n",
       "      <td>no</td>\n",
       "    </tr>\n",
       "    <tr>\n",
       "      <th>3</th>\n",
       "      <td>2</td>\n",
       "      <td>44</td>\n",
       "      <td>60000</td>\n",
       "      <td>29</td>\n",
       "      <td>single</td>\n",
       "      <td>technician,secondary</td>\n",
       "      <td>yes</td>\n",
       "      <td>no</td>\n",
       "      <td>yes</td>\n",
       "      <td>no</td>\n",
       "      <td>unknown</td>\n",
       "      <td>5</td>\n",
       "      <td>may, 2017</td>\n",
       "      <td>151 sec</td>\n",
       "      <td>1</td>\n",
       "      <td>-1</td>\n",
       "      <td>0</td>\n",
       "      <td>unknown</td>\n",
       "      <td>no</td>\n",
       "    </tr>\n",
       "    <tr>\n",
       "      <th>4</th>\n",
       "      <td>3</td>\n",
       "      <td>33</td>\n",
       "      <td>120000</td>\n",
       "      <td>2</td>\n",
       "      <td>married</td>\n",
       "      <td>entrepreneur,secondary</td>\n",
       "      <td>yes</td>\n",
       "      <td>no</td>\n",
       "      <td>yes</td>\n",
       "      <td>yes</td>\n",
       "      <td>unknown</td>\n",
       "      <td>5</td>\n",
       "      <td>may, 2017</td>\n",
       "      <td>76 sec</td>\n",
       "      <td>1</td>\n",
       "      <td>-1</td>\n",
       "      <td>0</td>\n",
       "      <td>unknown</td>\n",
       "      <td>no</td>\n",
       "    </tr>\n",
       "    <tr>\n",
       "      <th>...</th>\n",
       "      <td>...</td>\n",
       "      <td>...</td>\n",
       "      <td>...</td>\n",
       "      <td>...</td>\n",
       "      <td>...</td>\n",
       "      <td>...</td>\n",
       "      <td>...</td>\n",
       "      <td>...</td>\n",
       "      <td>...</td>\n",
       "      <td>...</td>\n",
       "      <td>...</td>\n",
       "      <td>...</td>\n",
       "      <td>...</td>\n",
       "      <td>...</td>\n",
       "      <td>...</td>\n",
       "      <td>...</td>\n",
       "      <td>...</td>\n",
       "      <td>...</td>\n",
       "      <td>...</td>\n",
       "    </tr>\n",
       "    <tr>\n",
       "      <th>45208</th>\n",
       "      <td>45207</td>\n",
       "      <td>51.0</td>\n",
       "      <td>60000</td>\n",
       "      <td>825</td>\n",
       "      <td>married</td>\n",
       "      <td>technician,tertiary</td>\n",
       "      <td>yes</td>\n",
       "      <td>no</td>\n",
       "      <td>no</td>\n",
       "      <td>no</td>\n",
       "      <td>cellular</td>\n",
       "      <td>17</td>\n",
       "      <td>nov, 2017</td>\n",
       "      <td>16.2833333333333 min</td>\n",
       "      <td>3</td>\n",
       "      <td>-1</td>\n",
       "      <td>0</td>\n",
       "      <td>unknown</td>\n",
       "      <td>yes</td>\n",
       "    </tr>\n",
       "    <tr>\n",
       "      <th>45209</th>\n",
       "      <td>45208</td>\n",
       "      <td>71.0</td>\n",
       "      <td>55000</td>\n",
       "      <td>1729</td>\n",
       "      <td>divorced</td>\n",
       "      <td>retired,primary</td>\n",
       "      <td>yes</td>\n",
       "      <td>no</td>\n",
       "      <td>no</td>\n",
       "      <td>no</td>\n",
       "      <td>cellular</td>\n",
       "      <td>17</td>\n",
       "      <td>nov, 2017</td>\n",
       "      <td>7.6 min</td>\n",
       "      <td>2</td>\n",
       "      <td>-1</td>\n",
       "      <td>0</td>\n",
       "      <td>unknown</td>\n",
       "      <td>yes</td>\n",
       "    </tr>\n",
       "    <tr>\n",
       "      <th>45210</th>\n",
       "      <td>45209</td>\n",
       "      <td>72.0</td>\n",
       "      <td>55000</td>\n",
       "      <td>5715</td>\n",
       "      <td>married</td>\n",
       "      <td>retired,secondary</td>\n",
       "      <td>yes</td>\n",
       "      <td>no</td>\n",
       "      <td>no</td>\n",
       "      <td>no</td>\n",
       "      <td>cellular</td>\n",
       "      <td>17</td>\n",
       "      <td>nov, 2017</td>\n",
       "      <td>18.7833333333333 min</td>\n",
       "      <td>5</td>\n",
       "      <td>184</td>\n",
       "      <td>3</td>\n",
       "      <td>success</td>\n",
       "      <td>yes</td>\n",
       "    </tr>\n",
       "    <tr>\n",
       "      <th>45211</th>\n",
       "      <td>45210</td>\n",
       "      <td>57.0</td>\n",
       "      <td>20000</td>\n",
       "      <td>668</td>\n",
       "      <td>married</td>\n",
       "      <td>blue-collar,secondary</td>\n",
       "      <td>yes</td>\n",
       "      <td>no</td>\n",
       "      <td>no</td>\n",
       "      <td>no</td>\n",
       "      <td>telephone</td>\n",
       "      <td>17</td>\n",
       "      <td>nov, 2017</td>\n",
       "      <td>8.46666666666667 min</td>\n",
       "      <td>4</td>\n",
       "      <td>-1</td>\n",
       "      <td>0</td>\n",
       "      <td>unknown</td>\n",
       "      <td>no</td>\n",
       "    </tr>\n",
       "    <tr>\n",
       "      <th>45212</th>\n",
       "      <td>45211</td>\n",
       "      <td>37.0</td>\n",
       "      <td>120000</td>\n",
       "      <td>2971</td>\n",
       "      <td>married</td>\n",
       "      <td>entrepreneur,secondary</td>\n",
       "      <td>yes</td>\n",
       "      <td>no</td>\n",
       "      <td>no</td>\n",
       "      <td>no</td>\n",
       "      <td>cellular</td>\n",
       "      <td>17</td>\n",
       "      <td>nov, 2017</td>\n",
       "      <td>6.01666666666667 min</td>\n",
       "      <td>2</td>\n",
       "      <td>188</td>\n",
       "      <td>11</td>\n",
       "      <td>other</td>\n",
       "      <td>no</td>\n",
       "    </tr>\n",
       "  </tbody>\n",
       "</table>\n",
       "<p>45213 rows × 19 columns</p>\n",
       "</div>"
      ],
      "text/plain": [
       "          banking marketing Unnamed: 1                    Unnamed: 2  \\\n",
       "0      customer id and age.        NaN  Customer salary and balance.   \n",
       "1                customerid        age                        salary   \n",
       "2                         1         58                        100000   \n",
       "3                         2         44                         60000   \n",
       "4                         3         33                        120000   \n",
       "...                     ...        ...                           ...   \n",
       "45208                 45207       51.0                         60000   \n",
       "45209                 45208       71.0                         55000   \n",
       "45210                 45209       72.0                         55000   \n",
       "45211                 45210       57.0                         20000   \n",
       "45212                 45211       37.0                        120000   \n",
       "\n",
       "      Unnamed: 3                                         Unnamed: 4  \\\n",
       "0            NaN  Customer marital status and job with education...   \n",
       "1        balance                                            marital   \n",
       "2           2143                                            married   \n",
       "3             29                                             single   \n",
       "4              2                                            married   \n",
       "...          ...                                                ...   \n",
       "45208        825                                            married   \n",
       "45209       1729                                           divorced   \n",
       "45210       5715                                            married   \n",
       "45211        668                                            married   \n",
       "45212       2971                                            married   \n",
       "\n",
       "                   Unnamed: 5                                  Unnamed: 6  \\\n",
       "0                         NaN  particular customer before targeted or not   \n",
       "1                      jobedu                                    targeted   \n",
       "2         management,tertiary                                         yes   \n",
       "3        technician,secondary                                         yes   \n",
       "4      entrepreneur,secondary                                         yes   \n",
       "...                       ...                                         ...   \n",
       "45208     technician,tertiary                                         yes   \n",
       "45209         retired,primary                                         yes   \n",
       "45210       retired,secondary                                         yes   \n",
       "45211   blue-collar,secondary                                         yes   \n",
       "45212  entrepreneur,secondary                                         yes   \n",
       "\n",
       "      Unnamed: 7                          Unnamed: 8 Unnamed: 9   Unnamed: 10  \\\n",
       "0            NaN  Loan types: loans or housing loans        NaN  Contact type   \n",
       "1        default                             housing       loan       contact   \n",
       "2             no                                 yes         no       unknown   \n",
       "3             no                                 yes         no       unknown   \n",
       "4             no                                 yes        yes       unknown   \n",
       "...          ...                                 ...        ...           ...   \n",
       "45208         no                                  no         no      cellular   \n",
       "45209         no                                  no         no      cellular   \n",
       "45210         no                                  no         no      cellular   \n",
       "45211         no                                  no         no     telephone   \n",
       "45212         no                                  no         no      cellular   \n",
       "\n",
       "      Unnamed: 11       Unnamed: 12           Unnamed: 13 Unnamed: 14  \\\n",
       "0             NaN  month of contact      duration of call         NaN   \n",
       "1             day             month              duration    campaign   \n",
       "2               5         may, 2017               261 sec           1   \n",
       "3               5         may, 2017               151 sec           1   \n",
       "4               5         may, 2017                76 sec           1   \n",
       "...           ...               ...                   ...         ...   \n",
       "45208          17         nov, 2017  16.2833333333333 min           3   \n",
       "45209          17         nov, 2017               7.6 min           2   \n",
       "45210          17         nov, 2017  18.7833333333333 min           5   \n",
       "45211          17         nov, 2017  8.46666666666667 min           4   \n",
       "45212          17         nov, 2017  6.01666666666667 min           2   \n",
       "\n",
       "      Unnamed: 15 Unnamed: 16                  Unnamed: 17  \\\n",
       "0             NaN         NaN  outcome of previous contact   \n",
       "1           pdays    previous                     poutcome   \n",
       "2              -1           0                      unknown   \n",
       "3              -1           0                      unknown   \n",
       "4              -1           0                      unknown   \n",
       "...           ...         ...                          ...   \n",
       "45208          -1           0                      unknown   \n",
       "45209          -1           0                      unknown   \n",
       "45210         184           3                      success   \n",
       "45211          -1           0                      unknown   \n",
       "45212         188          11                        other   \n",
       "\n",
       "                                   Unnamed: 18  \n",
       "0      response of customer after call happned  \n",
       "1                                     response  \n",
       "2                                           no  \n",
       "3                                           no  \n",
       "4                                           no  \n",
       "...                                        ...  \n",
       "45208                                      yes  \n",
       "45209                                      yes  \n",
       "45210                                      yes  \n",
       "45211                                       no  \n",
       "45212                                       no  \n",
       "\n",
       "[45213 rows x 19 columns]"
      ]
     },
     "execution_count": 2,
     "metadata": {},
     "output_type": "execute_result"
    }
   ],
   "source": [
    "# Read the data set of \"Marketing Analysis\" in data.\n",
    "marketing_data = pd.read_csv(\"/Users/eleazar/Documents/Projects/lab5/dataset/marketing_analysis.csv\")\n",
    "# Print the data\n",
    "marketing_data"
   ]
  },
  {
   "cell_type": "code",
   "execution_count": 3,
   "id": "f7419c12-432a-4ac6-b120-0df5d1db44f8",
   "metadata": {},
   "outputs": [
    {
     "data": {
      "text/html": [
       "<div>\n",
       "<style scoped>\n",
       "    .dataframe tbody tr th:only-of-type {\n",
       "        vertical-align: middle;\n",
       "    }\n",
       "\n",
       "    .dataframe tbody tr th {\n",
       "        vertical-align: top;\n",
       "    }\n",
       "\n",
       "    .dataframe thead th {\n",
       "        text-align: right;\n",
       "    }\n",
       "</style>\n",
       "<table border=\"1\" class=\"dataframe\">\n",
       "  <thead>\n",
       "    <tr style=\"text-align: right;\">\n",
       "      <th></th>\n",
       "      <th>customerid</th>\n",
       "      <th>age</th>\n",
       "      <th>salary</th>\n",
       "      <th>balance</th>\n",
       "      <th>marital</th>\n",
       "      <th>jobedu</th>\n",
       "      <th>targeted</th>\n",
       "      <th>default</th>\n",
       "      <th>housing</th>\n",
       "      <th>loan</th>\n",
       "      <th>contact</th>\n",
       "      <th>day</th>\n",
       "      <th>month</th>\n",
       "      <th>duration</th>\n",
       "      <th>campaign</th>\n",
       "      <th>pdays</th>\n",
       "      <th>previous</th>\n",
       "      <th>poutcome</th>\n",
       "      <th>response</th>\n",
       "    </tr>\n",
       "  </thead>\n",
       "  <tbody>\n",
       "    <tr>\n",
       "      <th>0</th>\n",
       "      <td>1</td>\n",
       "      <td>58.0</td>\n",
       "      <td>100000</td>\n",
       "      <td>2143</td>\n",
       "      <td>married</td>\n",
       "      <td>management,tertiary</td>\n",
       "      <td>yes</td>\n",
       "      <td>no</td>\n",
       "      <td>yes</td>\n",
       "      <td>no</td>\n",
       "      <td>unknown</td>\n",
       "      <td>5</td>\n",
       "      <td>may, 2017</td>\n",
       "      <td>261 sec</td>\n",
       "      <td>1</td>\n",
       "      <td>-1</td>\n",
       "      <td>0</td>\n",
       "      <td>unknown</td>\n",
       "      <td>no</td>\n",
       "    </tr>\n",
       "    <tr>\n",
       "      <th>1</th>\n",
       "      <td>2</td>\n",
       "      <td>44.0</td>\n",
       "      <td>60000</td>\n",
       "      <td>29</td>\n",
       "      <td>single</td>\n",
       "      <td>technician,secondary</td>\n",
       "      <td>yes</td>\n",
       "      <td>no</td>\n",
       "      <td>yes</td>\n",
       "      <td>no</td>\n",
       "      <td>unknown</td>\n",
       "      <td>5</td>\n",
       "      <td>may, 2017</td>\n",
       "      <td>151 sec</td>\n",
       "      <td>1</td>\n",
       "      <td>-1</td>\n",
       "      <td>0</td>\n",
       "      <td>unknown</td>\n",
       "      <td>no</td>\n",
       "    </tr>\n",
       "    <tr>\n",
       "      <th>2</th>\n",
       "      <td>3</td>\n",
       "      <td>33.0</td>\n",
       "      <td>120000</td>\n",
       "      <td>2</td>\n",
       "      <td>married</td>\n",
       "      <td>entrepreneur,secondary</td>\n",
       "      <td>yes</td>\n",
       "      <td>no</td>\n",
       "      <td>yes</td>\n",
       "      <td>yes</td>\n",
       "      <td>unknown</td>\n",
       "      <td>5</td>\n",
       "      <td>may, 2017</td>\n",
       "      <td>76 sec</td>\n",
       "      <td>1</td>\n",
       "      <td>-1</td>\n",
       "      <td>0</td>\n",
       "      <td>unknown</td>\n",
       "      <td>no</td>\n",
       "    </tr>\n",
       "    <tr>\n",
       "      <th>3</th>\n",
       "      <td>4</td>\n",
       "      <td>47.0</td>\n",
       "      <td>20000</td>\n",
       "      <td>1506</td>\n",
       "      <td>married</td>\n",
       "      <td>blue-collar,unknown</td>\n",
       "      <td>no</td>\n",
       "      <td>no</td>\n",
       "      <td>yes</td>\n",
       "      <td>no</td>\n",
       "      <td>unknown</td>\n",
       "      <td>5</td>\n",
       "      <td>may, 2017</td>\n",
       "      <td>92 sec</td>\n",
       "      <td>1</td>\n",
       "      <td>-1</td>\n",
       "      <td>0</td>\n",
       "      <td>unknown</td>\n",
       "      <td>no</td>\n",
       "    </tr>\n",
       "    <tr>\n",
       "      <th>4</th>\n",
       "      <td>5</td>\n",
       "      <td>33.0</td>\n",
       "      <td>0</td>\n",
       "      <td>1</td>\n",
       "      <td>single</td>\n",
       "      <td>unknown,unknown</td>\n",
       "      <td>no</td>\n",
       "      <td>no</td>\n",
       "      <td>no</td>\n",
       "      <td>no</td>\n",
       "      <td>unknown</td>\n",
       "      <td>5</td>\n",
       "      <td>may, 2017</td>\n",
       "      <td>198 sec</td>\n",
       "      <td>1</td>\n",
       "      <td>-1</td>\n",
       "      <td>0</td>\n",
       "      <td>unknown</td>\n",
       "      <td>no</td>\n",
       "    </tr>\n",
       "  </tbody>\n",
       "</table>\n",
       "</div>"
      ],
      "text/plain": [
       "   customerid   age  salary  balance  marital                  jobedu  \\\n",
       "0           1  58.0  100000     2143  married     management,tertiary   \n",
       "1           2  44.0   60000       29   single    technician,secondary   \n",
       "2           3  33.0  120000        2  married  entrepreneur,secondary   \n",
       "3           4  47.0   20000     1506  married     blue-collar,unknown   \n",
       "4           5  33.0       0        1   single         unknown,unknown   \n",
       "\n",
       "  targeted default housing loan  contact  day      month duration  campaign  \\\n",
       "0      yes      no     yes   no  unknown    5  may, 2017  261 sec         1   \n",
       "1      yes      no     yes   no  unknown    5  may, 2017  151 sec         1   \n",
       "2      yes      no     yes  yes  unknown    5  may, 2017   76 sec         1   \n",
       "3       no      no     yes   no  unknown    5  may, 2017   92 sec         1   \n",
       "4       no      no      no   no  unknown    5  may, 2017  198 sec         1   \n",
       "\n",
       "   pdays  previous poutcome response  \n",
       "0     -1         0  unknown       no  \n",
       "1     -1         0  unknown       no  \n",
       "2     -1         0  unknown       no  \n",
       "3     -1         0  unknown       no  \n",
       "4     -1         0  unknown       no  "
      ]
     },
     "execution_count": 3,
     "metadata": {},
     "output_type": "execute_result"
    }
   ],
   "source": [
    "# Read the file in data without first two rows as it is of no use.\n",
    "marketing_data = pd.read_csv(\"/Users/eleazar/Documents/Projects/lab5/dataset/marketing_analysis.csv\", skiprows=2)\n",
    "marketing_data.head()"
   ]
  },
  {
   "cell_type": "markdown",
   "id": "d6e7cc28-16c1-4a45-ae37-c069c012703c",
   "metadata": {},
   "source": [
    "## Data Cleaning"
   ]
  },
  {
   "cell_type": "code",
   "execution_count": 4,
   "id": "8b180688-e45f-43e4-bc71-2468786d0084",
   "metadata": {},
   "outputs": [],
   "source": [
    "# Drop the customer id as it is of no use\n",
    "marketing_data.drop('customerid', axis=1, inplace=True)"
   ]
  },
  {
   "cell_type": "code",
   "execution_count": 5,
   "id": "30225cc4-f33a-4a9e-a813-76a1bfc8e573",
   "metadata": {},
   "outputs": [
    {
     "data": {
      "text/html": [
       "<div>\n",
       "<style scoped>\n",
       "    .dataframe tbody tr th:only-of-type {\n",
       "        vertical-align: middle;\n",
       "    }\n",
       "\n",
       "    .dataframe tbody tr th {\n",
       "        vertical-align: top;\n",
       "    }\n",
       "\n",
       "    .dataframe thead th {\n",
       "        text-align: right;\n",
       "    }\n",
       "</style>\n",
       "<table border=\"1\" class=\"dataframe\">\n",
       "  <thead>\n",
       "    <tr style=\"text-align: right;\">\n",
       "      <th></th>\n",
       "      <th>age</th>\n",
       "      <th>salary</th>\n",
       "      <th>balance</th>\n",
       "      <th>marital</th>\n",
       "      <th>jobedu</th>\n",
       "      <th>targeted</th>\n",
       "      <th>default</th>\n",
       "      <th>housing</th>\n",
       "      <th>loan</th>\n",
       "      <th>contact</th>\n",
       "      <th>day</th>\n",
       "      <th>month</th>\n",
       "      <th>duration</th>\n",
       "      <th>campaign</th>\n",
       "      <th>pdays</th>\n",
       "      <th>previous</th>\n",
       "      <th>poutcome</th>\n",
       "      <th>response</th>\n",
       "    </tr>\n",
       "  </thead>\n",
       "  <tbody>\n",
       "    <tr>\n",
       "      <th>0</th>\n",
       "      <td>58.0</td>\n",
       "      <td>100000</td>\n",
       "      <td>2143</td>\n",
       "      <td>married</td>\n",
       "      <td>management,tertiary</td>\n",
       "      <td>yes</td>\n",
       "      <td>no</td>\n",
       "      <td>yes</td>\n",
       "      <td>no</td>\n",
       "      <td>unknown</td>\n",
       "      <td>5</td>\n",
       "      <td>may, 2017</td>\n",
       "      <td>261 sec</td>\n",
       "      <td>1</td>\n",
       "      <td>-1</td>\n",
       "      <td>0</td>\n",
       "      <td>unknown</td>\n",
       "      <td>no</td>\n",
       "    </tr>\n",
       "    <tr>\n",
       "      <th>1</th>\n",
       "      <td>44.0</td>\n",
       "      <td>60000</td>\n",
       "      <td>29</td>\n",
       "      <td>single</td>\n",
       "      <td>technician,secondary</td>\n",
       "      <td>yes</td>\n",
       "      <td>no</td>\n",
       "      <td>yes</td>\n",
       "      <td>no</td>\n",
       "      <td>unknown</td>\n",
       "      <td>5</td>\n",
       "      <td>may, 2017</td>\n",
       "      <td>151 sec</td>\n",
       "      <td>1</td>\n",
       "      <td>-1</td>\n",
       "      <td>0</td>\n",
       "      <td>unknown</td>\n",
       "      <td>no</td>\n",
       "    </tr>\n",
       "    <tr>\n",
       "      <th>2</th>\n",
       "      <td>33.0</td>\n",
       "      <td>120000</td>\n",
       "      <td>2</td>\n",
       "      <td>married</td>\n",
       "      <td>entrepreneur,secondary</td>\n",
       "      <td>yes</td>\n",
       "      <td>no</td>\n",
       "      <td>yes</td>\n",
       "      <td>yes</td>\n",
       "      <td>unknown</td>\n",
       "      <td>5</td>\n",
       "      <td>may, 2017</td>\n",
       "      <td>76 sec</td>\n",
       "      <td>1</td>\n",
       "      <td>-1</td>\n",
       "      <td>0</td>\n",
       "      <td>unknown</td>\n",
       "      <td>no</td>\n",
       "    </tr>\n",
       "    <tr>\n",
       "      <th>3</th>\n",
       "      <td>47.0</td>\n",
       "      <td>20000</td>\n",
       "      <td>1506</td>\n",
       "      <td>married</td>\n",
       "      <td>blue-collar,unknown</td>\n",
       "      <td>no</td>\n",
       "      <td>no</td>\n",
       "      <td>yes</td>\n",
       "      <td>no</td>\n",
       "      <td>unknown</td>\n",
       "      <td>5</td>\n",
       "      <td>may, 2017</td>\n",
       "      <td>92 sec</td>\n",
       "      <td>1</td>\n",
       "      <td>-1</td>\n",
       "      <td>0</td>\n",
       "      <td>unknown</td>\n",
       "      <td>no</td>\n",
       "    </tr>\n",
       "    <tr>\n",
       "      <th>4</th>\n",
       "      <td>33.0</td>\n",
       "      <td>0</td>\n",
       "      <td>1</td>\n",
       "      <td>single</td>\n",
       "      <td>unknown,unknown</td>\n",
       "      <td>no</td>\n",
       "      <td>no</td>\n",
       "      <td>no</td>\n",
       "      <td>no</td>\n",
       "      <td>unknown</td>\n",
       "      <td>5</td>\n",
       "      <td>may, 2017</td>\n",
       "      <td>198 sec</td>\n",
       "      <td>1</td>\n",
       "      <td>-1</td>\n",
       "      <td>0</td>\n",
       "      <td>unknown</td>\n",
       "      <td>no</td>\n",
       "    </tr>\n",
       "  </tbody>\n",
       "</table>\n",
       "</div>"
      ],
      "text/plain": [
       "    age  salary  balance  marital                  jobedu targeted default  \\\n",
       "0  58.0  100000     2143  married     management,tertiary      yes      no   \n",
       "1  44.0   60000       29   single    technician,secondary      yes      no   \n",
       "2  33.0  120000        2  married  entrepreneur,secondary      yes      no   \n",
       "3  47.0   20000     1506  married     blue-collar,unknown       no      no   \n",
       "4  33.0       0        1   single         unknown,unknown       no      no   \n",
       "\n",
       "  housing loan  contact  day      month duration  campaign  pdays  previous  \\\n",
       "0     yes   no  unknown    5  may, 2017  261 sec         1     -1         0   \n",
       "1     yes   no  unknown    5  may, 2017  151 sec         1     -1         0   \n",
       "2     yes  yes  unknown    5  may, 2017   76 sec         1     -1         0   \n",
       "3     yes   no  unknown    5  may, 2017   92 sec         1     -1         0   \n",
       "4      no   no  unknown    5  may, 2017  198 sec         1     -1         0   \n",
       "\n",
       "  poutcome response  \n",
       "0  unknown       no  \n",
       "1  unknown       no  \n",
       "2  unknown       no  \n",
       "3  unknown       no  \n",
       "4  unknown       no  "
      ]
     },
     "execution_count": 5,
     "metadata": {},
     "output_type": "execute_result"
    }
   ],
   "source": [
    "marketing_data.head()"
   ]
  },
  {
   "cell_type": "code",
   "execution_count": 6,
   "id": "bec3c46a-1d20-4a7e-8814-5a597322b76c",
   "metadata": {},
   "outputs": [],
   "source": [
    "#Extract job & Education in newly from \"jobedu\" column.\n",
    "marketing_data['job']= marketing_data[\"jobedu\"].apply(lambda x: x.split(\",\")[0])\n",
    "marketing_data['education']= marketing_data[\"jobedu\"].apply(lambda x: x.split(\",\")[1])"
   ]
  },
  {
   "cell_type": "code",
   "execution_count": 7,
   "id": "09c31500-ef8c-46f0-899e-18a03f9ff080",
   "metadata": {},
   "outputs": [],
   "source": [
    "# Drop the \"jobedu\" column from the dataframe.\n",
    "marketing_data.drop('jobedu', axis = 1, inplace = True)"
   ]
  },
  {
   "cell_type": "code",
   "execution_count": 8,
   "id": "892813f8-c1c9-4ce0-962c-b136795f6862",
   "metadata": {},
   "outputs": [
    {
     "data": {
      "text/html": [
       "<div>\n",
       "<style scoped>\n",
       "    .dataframe tbody tr th:only-of-type {\n",
       "        vertical-align: middle;\n",
       "    }\n",
       "\n",
       "    .dataframe tbody tr th {\n",
       "        vertical-align: top;\n",
       "    }\n",
       "\n",
       "    .dataframe thead th {\n",
       "        text-align: right;\n",
       "    }\n",
       "</style>\n",
       "<table border=\"1\" class=\"dataframe\">\n",
       "  <thead>\n",
       "    <tr style=\"text-align: right;\">\n",
       "      <th></th>\n",
       "      <th>age</th>\n",
       "      <th>salary</th>\n",
       "      <th>balance</th>\n",
       "      <th>marital</th>\n",
       "      <th>targeted</th>\n",
       "      <th>default</th>\n",
       "      <th>housing</th>\n",
       "      <th>loan</th>\n",
       "      <th>contact</th>\n",
       "      <th>day</th>\n",
       "      <th>month</th>\n",
       "      <th>duration</th>\n",
       "      <th>campaign</th>\n",
       "      <th>pdays</th>\n",
       "      <th>previous</th>\n",
       "      <th>poutcome</th>\n",
       "      <th>response</th>\n",
       "      <th>job</th>\n",
       "      <th>education</th>\n",
       "    </tr>\n",
       "  </thead>\n",
       "  <tbody>\n",
       "    <tr>\n",
       "      <th>0</th>\n",
       "      <td>58.0</td>\n",
       "      <td>100000</td>\n",
       "      <td>2143</td>\n",
       "      <td>married</td>\n",
       "      <td>yes</td>\n",
       "      <td>no</td>\n",
       "      <td>yes</td>\n",
       "      <td>no</td>\n",
       "      <td>unknown</td>\n",
       "      <td>5</td>\n",
       "      <td>may, 2017</td>\n",
       "      <td>261 sec</td>\n",
       "      <td>1</td>\n",
       "      <td>-1</td>\n",
       "      <td>0</td>\n",
       "      <td>unknown</td>\n",
       "      <td>no</td>\n",
       "      <td>management</td>\n",
       "      <td>tertiary</td>\n",
       "    </tr>\n",
       "    <tr>\n",
       "      <th>1</th>\n",
       "      <td>44.0</td>\n",
       "      <td>60000</td>\n",
       "      <td>29</td>\n",
       "      <td>single</td>\n",
       "      <td>yes</td>\n",
       "      <td>no</td>\n",
       "      <td>yes</td>\n",
       "      <td>no</td>\n",
       "      <td>unknown</td>\n",
       "      <td>5</td>\n",
       "      <td>may, 2017</td>\n",
       "      <td>151 sec</td>\n",
       "      <td>1</td>\n",
       "      <td>-1</td>\n",
       "      <td>0</td>\n",
       "      <td>unknown</td>\n",
       "      <td>no</td>\n",
       "      <td>technician</td>\n",
       "      <td>secondary</td>\n",
       "    </tr>\n",
       "    <tr>\n",
       "      <th>2</th>\n",
       "      <td>33.0</td>\n",
       "      <td>120000</td>\n",
       "      <td>2</td>\n",
       "      <td>married</td>\n",
       "      <td>yes</td>\n",
       "      <td>no</td>\n",
       "      <td>yes</td>\n",
       "      <td>yes</td>\n",
       "      <td>unknown</td>\n",
       "      <td>5</td>\n",
       "      <td>may, 2017</td>\n",
       "      <td>76 sec</td>\n",
       "      <td>1</td>\n",
       "      <td>-1</td>\n",
       "      <td>0</td>\n",
       "      <td>unknown</td>\n",
       "      <td>no</td>\n",
       "      <td>entrepreneur</td>\n",
       "      <td>secondary</td>\n",
       "    </tr>\n",
       "    <tr>\n",
       "      <th>3</th>\n",
       "      <td>47.0</td>\n",
       "      <td>20000</td>\n",
       "      <td>1506</td>\n",
       "      <td>married</td>\n",
       "      <td>no</td>\n",
       "      <td>no</td>\n",
       "      <td>yes</td>\n",
       "      <td>no</td>\n",
       "      <td>unknown</td>\n",
       "      <td>5</td>\n",
       "      <td>may, 2017</td>\n",
       "      <td>92 sec</td>\n",
       "      <td>1</td>\n",
       "      <td>-1</td>\n",
       "      <td>0</td>\n",
       "      <td>unknown</td>\n",
       "      <td>no</td>\n",
       "      <td>blue-collar</td>\n",
       "      <td>unknown</td>\n",
       "    </tr>\n",
       "    <tr>\n",
       "      <th>4</th>\n",
       "      <td>33.0</td>\n",
       "      <td>0</td>\n",
       "      <td>1</td>\n",
       "      <td>single</td>\n",
       "      <td>no</td>\n",
       "      <td>no</td>\n",
       "      <td>no</td>\n",
       "      <td>no</td>\n",
       "      <td>unknown</td>\n",
       "      <td>5</td>\n",
       "      <td>may, 2017</td>\n",
       "      <td>198 sec</td>\n",
       "      <td>1</td>\n",
       "      <td>-1</td>\n",
       "      <td>0</td>\n",
       "      <td>unknown</td>\n",
       "      <td>no</td>\n",
       "      <td>unknown</td>\n",
       "      <td>unknown</td>\n",
       "    </tr>\n",
       "    <tr>\n",
       "      <th>...</th>\n",
       "      <td>...</td>\n",
       "      <td>...</td>\n",
       "      <td>...</td>\n",
       "      <td>...</td>\n",
       "      <td>...</td>\n",
       "      <td>...</td>\n",
       "      <td>...</td>\n",
       "      <td>...</td>\n",
       "      <td>...</td>\n",
       "      <td>...</td>\n",
       "      <td>...</td>\n",
       "      <td>...</td>\n",
       "      <td>...</td>\n",
       "      <td>...</td>\n",
       "      <td>...</td>\n",
       "      <td>...</td>\n",
       "      <td>...</td>\n",
       "      <td>...</td>\n",
       "      <td>...</td>\n",
       "    </tr>\n",
       "    <tr>\n",
       "      <th>45206</th>\n",
       "      <td>51.0</td>\n",
       "      <td>60000</td>\n",
       "      <td>825</td>\n",
       "      <td>married</td>\n",
       "      <td>yes</td>\n",
       "      <td>no</td>\n",
       "      <td>no</td>\n",
       "      <td>no</td>\n",
       "      <td>cellular</td>\n",
       "      <td>17</td>\n",
       "      <td>nov, 2017</td>\n",
       "      <td>16.2833333333333 min</td>\n",
       "      <td>3</td>\n",
       "      <td>-1</td>\n",
       "      <td>0</td>\n",
       "      <td>unknown</td>\n",
       "      <td>yes</td>\n",
       "      <td>technician</td>\n",
       "      <td>tertiary</td>\n",
       "    </tr>\n",
       "    <tr>\n",
       "      <th>45207</th>\n",
       "      <td>71.0</td>\n",
       "      <td>55000</td>\n",
       "      <td>1729</td>\n",
       "      <td>divorced</td>\n",
       "      <td>yes</td>\n",
       "      <td>no</td>\n",
       "      <td>no</td>\n",
       "      <td>no</td>\n",
       "      <td>cellular</td>\n",
       "      <td>17</td>\n",
       "      <td>nov, 2017</td>\n",
       "      <td>7.6 min</td>\n",
       "      <td>2</td>\n",
       "      <td>-1</td>\n",
       "      <td>0</td>\n",
       "      <td>unknown</td>\n",
       "      <td>yes</td>\n",
       "      <td>retired</td>\n",
       "      <td>primary</td>\n",
       "    </tr>\n",
       "    <tr>\n",
       "      <th>45208</th>\n",
       "      <td>72.0</td>\n",
       "      <td>55000</td>\n",
       "      <td>5715</td>\n",
       "      <td>married</td>\n",
       "      <td>yes</td>\n",
       "      <td>no</td>\n",
       "      <td>no</td>\n",
       "      <td>no</td>\n",
       "      <td>cellular</td>\n",
       "      <td>17</td>\n",
       "      <td>nov, 2017</td>\n",
       "      <td>18.7833333333333 min</td>\n",
       "      <td>5</td>\n",
       "      <td>184</td>\n",
       "      <td>3</td>\n",
       "      <td>success</td>\n",
       "      <td>yes</td>\n",
       "      <td>retired</td>\n",
       "      <td>secondary</td>\n",
       "    </tr>\n",
       "    <tr>\n",
       "      <th>45209</th>\n",
       "      <td>57.0</td>\n",
       "      <td>20000</td>\n",
       "      <td>668</td>\n",
       "      <td>married</td>\n",
       "      <td>yes</td>\n",
       "      <td>no</td>\n",
       "      <td>no</td>\n",
       "      <td>no</td>\n",
       "      <td>telephone</td>\n",
       "      <td>17</td>\n",
       "      <td>nov, 2017</td>\n",
       "      <td>8.46666666666667 min</td>\n",
       "      <td>4</td>\n",
       "      <td>-1</td>\n",
       "      <td>0</td>\n",
       "      <td>unknown</td>\n",
       "      <td>no</td>\n",
       "      <td>blue-collar</td>\n",
       "      <td>secondary</td>\n",
       "    </tr>\n",
       "    <tr>\n",
       "      <th>45210</th>\n",
       "      <td>37.0</td>\n",
       "      <td>120000</td>\n",
       "      <td>2971</td>\n",
       "      <td>married</td>\n",
       "      <td>yes</td>\n",
       "      <td>no</td>\n",
       "      <td>no</td>\n",
       "      <td>no</td>\n",
       "      <td>cellular</td>\n",
       "      <td>17</td>\n",
       "      <td>nov, 2017</td>\n",
       "      <td>6.01666666666667 min</td>\n",
       "      <td>2</td>\n",
       "      <td>188</td>\n",
       "      <td>11</td>\n",
       "      <td>other</td>\n",
       "      <td>no</td>\n",
       "      <td>entrepreneur</td>\n",
       "      <td>secondary</td>\n",
       "    </tr>\n",
       "  </tbody>\n",
       "</table>\n",
       "<p>45211 rows × 19 columns</p>\n",
       "</div>"
      ],
      "text/plain": [
       "        age  salary  balance   marital targeted default housing loan  \\\n",
       "0      58.0  100000     2143   married      yes      no     yes   no   \n",
       "1      44.0   60000       29    single      yes      no     yes   no   \n",
       "2      33.0  120000        2   married      yes      no     yes  yes   \n",
       "3      47.0   20000     1506   married       no      no     yes   no   \n",
       "4      33.0       0        1    single       no      no      no   no   \n",
       "...     ...     ...      ...       ...      ...     ...     ...  ...   \n",
       "45206  51.0   60000      825   married      yes      no      no   no   \n",
       "45207  71.0   55000     1729  divorced      yes      no      no   no   \n",
       "45208  72.0   55000     5715   married      yes      no      no   no   \n",
       "45209  57.0   20000      668   married      yes      no      no   no   \n",
       "45210  37.0  120000     2971   married      yes      no      no   no   \n",
       "\n",
       "         contact  day      month              duration  campaign  pdays  \\\n",
       "0        unknown    5  may, 2017               261 sec         1     -1   \n",
       "1        unknown    5  may, 2017               151 sec         1     -1   \n",
       "2        unknown    5  may, 2017                76 sec         1     -1   \n",
       "3        unknown    5  may, 2017                92 sec         1     -1   \n",
       "4        unknown    5  may, 2017               198 sec         1     -1   \n",
       "...          ...  ...        ...                   ...       ...    ...   \n",
       "45206   cellular   17  nov, 2017  16.2833333333333 min         3     -1   \n",
       "45207   cellular   17  nov, 2017               7.6 min         2     -1   \n",
       "45208   cellular   17  nov, 2017  18.7833333333333 min         5    184   \n",
       "45209  telephone   17  nov, 2017  8.46666666666667 min         4     -1   \n",
       "45210   cellular   17  nov, 2017  6.01666666666667 min         2    188   \n",
       "\n",
       "       previous poutcome response           job  education  \n",
       "0             0  unknown       no    management   tertiary  \n",
       "1             0  unknown       no    technician  secondary  \n",
       "2             0  unknown       no  entrepreneur  secondary  \n",
       "3             0  unknown       no   blue-collar    unknown  \n",
       "4             0  unknown       no       unknown    unknown  \n",
       "...         ...      ...      ...           ...        ...  \n",
       "45206         0  unknown      yes    technician   tertiary  \n",
       "45207         0  unknown      yes       retired    primary  \n",
       "45208         3  success      yes       retired  secondary  \n",
       "45209         0  unknown       no   blue-collar  secondary  \n",
       "45210        11    other       no  entrepreneur  secondary  \n",
       "\n",
       "[45211 rows x 19 columns]"
      ]
     },
     "execution_count": 8,
     "metadata": {},
     "output_type": "execute_result"
    }
   ],
   "source": [
    "# Print the Dataset\n",
    "marketing_data"
   ]
  },
  {
   "cell_type": "code",
   "execution_count": 9,
   "id": "f87b823a-12b7-4171-8aff-72843d678a49",
   "metadata": {},
   "outputs": [
    {
     "data": {
      "text/plain": [
       "age          20\n",
       "salary        0\n",
       "balance       0\n",
       "marital       0\n",
       "targeted      0\n",
       "default       0\n",
       "housing       0\n",
       "loan          0\n",
       "contact       0\n",
       "day           0\n",
       "month        50\n",
       "duration      0\n",
       "campaign      0\n",
       "pdays         0\n",
       "previous      0\n",
       "poutcome      0\n",
       "response     30\n",
       "job           0\n",
       "education     0\n",
       "dtype: int64"
      ]
     },
     "execution_count": 9,
     "metadata": {},
     "output_type": "execute_result"
    }
   ],
   "source": [
    "# Check the missing values\n",
    "marketing_data.isnull().sum()"
   ]
  },
  {
   "cell_type": "code",
   "execution_count": 10,
   "id": "15ad7f28-855c-40ce-a661-2f30e238592c",
   "metadata": {},
   "outputs": [
    {
     "data": {
      "text/plain": [
       "age           0\n",
       "salary        0\n",
       "balance       0\n",
       "marital       0\n",
       "targeted      0\n",
       "default       0\n",
       "housing       0\n",
       "loan          0\n",
       "contact       0\n",
       "day           0\n",
       "month        50\n",
       "duration      0\n",
       "campaign      0\n",
       "pdays         0\n",
       "previous      0\n",
       "poutcome      0\n",
       "response     30\n",
       "job           0\n",
       "education     0\n",
       "dtype: int64"
      ]
     },
     "execution_count": 10,
     "metadata": {},
     "output_type": "execute_result"
    }
   ],
   "source": [
    "#Dropping the records with age missing values in dataframe\n",
    "marketing_data = marketing_data[~marketing_data.age.isnull()].copy()\n",
    "\n",
    "#checking the missing values in the dataset\n",
    "marketing_data.isnull().sum()"
   ]
  },
  {
   "cell_type": "code",
   "execution_count": 11,
   "id": "65d2dfdf-ae9d-4484-b5e1-f41e42e617cc",
   "metadata": {},
   "outputs": [],
   "source": [
    "#Find the mode of month in data\n",
    "month_mode = marketing_data.month.mode()[0]"
   ]
  },
  {
   "cell_type": "code",
   "execution_count": 12,
   "id": "b4e1197f-14ef-415e-b6d0-0497c8c1c859",
   "metadata": {},
   "outputs": [
    {
     "name": "stderr",
     "output_type": "stream",
     "text": [
      "/var/folders/dk/g6kdw5nj5hb8tlfg5r6rfn300000gn/T/ipykernel_29408/1234449627.py:2: FutureWarning: A value is trying to be set on a copy of a DataFrame or Series through chained assignment using an inplace method.\n",
      "The behavior will change in pandas 3.0. This inplace method will never work because the intermediate object on which we are setting values always behaves as a copy.\n",
      "\n",
      "For example, when doing 'df[col].method(value, inplace=True)', try using 'df.method({col: value}, inplace=True)' or df[col] = df[col].method(value) instead, to perform the operation inplace on the original object.\n",
      "\n",
      "\n",
      "  marketing_data.month.fillna(month_mode, inplace=True)\n"
     ]
    }
   ],
   "source": [
    "#Fill the missing values with mode value of month in data\n",
    "marketing_data.month.fillna(month_mode, inplace=True)"
   ]
  },
  {
   "cell_type": "code",
   "execution_count": 13,
   "id": "0ec320d1-eedb-4489-80b7-e939b15c605b",
   "metadata": {},
   "outputs": [
    {
     "data": {
      "text/plain": [
       "np.int64(0)"
      ]
     },
     "execution_count": 13,
     "metadata": {},
     "output_type": "execute_result"
    }
   ],
   "source": [
    "#Let's see the null values in the month column\n",
    "marketing_data.month.isnull().sum()"
   ]
  },
  {
   "cell_type": "markdown",
   "id": "21c79586-fff2-4386-9679-8b5892f9ee0c",
   "metadata": {},
   "source": [
    "#### Question 1: Implement three alternative approaches to handle missing values in the age or month columns. Explain why you decide to implement these approaches"
   ]
  },
  {
   "cell_type": "code",
   "execution_count": null,
   "id": "d9beb49f-9afd-4fe4-8162-aa8066db38b6",
   "metadata": {},
   "outputs": [],
   "source": []
  },
  {
   "cell_type": "code",
   "execution_count": 14,
   "id": "50e84692-dfd4-46ed-8c0f-fd38403a63b6",
   "metadata": {},
   "outputs": [],
   "source": [
    "#Drop missing values in our target columnm, Respons column.\n",
    "marketing_data = marketing_data[~marketing_data.response.isnull()].copy()"
   ]
  },
  {
   "cell_type": "code",
   "execution_count": 15,
   "id": "b9167df3-90da-450d-90c2-7e08b5a54762",
   "metadata": {},
   "outputs": [
    {
     "data": {
      "text/plain": [
       "age          0\n",
       "salary       0\n",
       "balance      0\n",
       "marital      0\n",
       "targeted     0\n",
       "default      0\n",
       "housing      0\n",
       "loan         0\n",
       "contact      0\n",
       "day          0\n",
       "month        0\n",
       "duration     0\n",
       "campaign     0\n",
       "pdays        0\n",
       "previous     0\n",
       "poutcome     0\n",
       "response     0\n",
       "job          0\n",
       "education    0\n",
       "dtype: int64"
      ]
     },
     "execution_count": 15,
     "metadata": {},
     "output_type": "execute_result"
    }
   ],
   "source": [
    "#Calculate the missing vlaues in each coleumnd of the dataframe\n",
    "marketing_data.isnull().sum()"
   ]
  },
  {
   "cell_type": "markdown",
   "id": "a85849b9-a50b-4e96-bc1a-497d3ecea759",
   "metadata": {},
   "source": [
    "#### Question 2: Is there outliers in our dataset (look for them)? If yes, implement approach to hanlde them. If no, demonstrate how you made this conclusion"
   ]
  },
  {
   "cell_type": "code",
   "execution_count": null,
   "id": "ed836c90-0fcf-4615-a5c0-85ba00bfefaf",
   "metadata": {},
   "outputs": [],
   "source": []
  },
  {
   "cell_type": "markdown",
   "id": "8e2cd8ea-6fe9-4caf-9019-baafe59e272b",
   "metadata": {},
   "source": [
    "### Univariety Analysis\n",
    "\n",
    "Categorical Unordered Analysis:"
   ]
  },
  {
   "cell_type": "code",
   "execution_count": 16,
   "id": "b805fa90-b407-49cb-93a1-b5febeefd464",
   "metadata": {},
   "outputs": [
    {
     "data": {
      "text/plain": [
       "job\n",
       "blue-collar      0.215274\n",
       "management       0.209273\n",
       "technician       0.168043\n",
       "admin.           0.114369\n",
       "services         0.091849\n",
       "retired          0.050087\n",
       "self-employed    0.034853\n",
       "entrepreneur     0.032860\n",
       "unemployed       0.028830\n",
       "housemaid        0.027413\n",
       "student          0.020770\n",
       "unknown          0.006377\n",
       "Name: proportion, dtype: float64"
      ]
     },
     "execution_count": 16,
     "metadata": {},
     "output_type": "execute_result"
    }
   ],
   "source": [
    "#Let's calculate the percentage of each job status category\n",
    "marketing_data.job.value_counts(normalize=True)"
   ]
  },
  {
   "cell_type": "code",
   "execution_count": 17,
   "id": "45fa356a-47c3-4578-b0b8-884f27b8ca8f",
   "metadata": {},
   "outputs": [
    {
     "data": {
      "image/png": "[encoded data removed]",
      "text/plain": [
       "<Figure size 640x480 with 1 Axes>"
      ]
     },
     "metadata": {},
     "output_type": "display_data"
    }
   ],
   "source": [
    "#Plot the bar graph og percentage job categories\n",
    "marketing_data.job.value_counts(normalize=True).plot.barh()\n",
    "plt.show()"
   ]
  },
  {
   "cell_type": "markdown",
   "id": "9e0978e7-047b-4bd7-9454-899ad8eb9ebc",
   "metadata": {},
   "source": [
    "#### Question 3: Add titles and data labels to this plot"
   ]
  },
  {
   "cell_type": "code",
   "execution_count": null,
   "id": "862f81b2-2cc6-4785-8763-b8888452ab2d",
   "metadata": {},
   "outputs": [],
   "source": []
  },
  {
   "cell_type": "markdown",
   "id": "eee46a09-5583-4a3d-91b3-143052186225",
   "metadata": {},
   "source": [
    "We can infer that the dataset contains more numer of clue-collat coworkers compared to other categorie."
   ]
  },
  {
   "cell_type": "markdown",
   "id": "0e347356-d19c-41b3-ac0d-0901160c86ea",
   "metadata": {},
   "source": [
    "#### Question 4: Are there 'unknown' values in the dataset? Should we consider them missing? Explain how would you handle them, and demonstrate your solution. If yoy decide to leave them as they are, explain why you made this decision."
   ]
  },
  {
   "cell_type": "markdown",
   "id": "ea43d0d7-2a22-4dcc-89b3-a77516a40e55",
   "metadata": {},
   "source": []
  },
  {
   "cell_type": "code",
   "execution_count": null,
   "id": "84dd2e37-3d05-45c0-84fa-7b9e11e88b7d",
   "metadata": {},
   "outputs": [],
   "source": []
  },
  {
   "cell_type": "markdown",
   "id": "868dc048-801a-4089-9666-8b4dfac223e1",
   "metadata": {},
   "source": [
    "### Categorical Ordered Univariete Anaylis"
   ]
  },
  {
   "cell_type": "code",
   "execution_count": 18,
   "id": "0d5f1197-ab3a-4cd7-b399-587a1d9ac1ec",
   "metadata": {},
   "outputs": [
    {
     "data": {
      "text/plain": [
       "education\n",
       "secondary    0.513275\n",
       "tertiary     0.294192\n",
       "primary      0.151436\n",
       "unknown      0.041097\n",
       "Name: proportion, dtype: float64"
      ]
     },
     "execution_count": 18,
     "metadata": {},
     "output_type": "execute_result"
    }
   ],
   "source": [
    "#Calculate the precentage of each education category\n",
    "marketing_data.education.value_counts(normalize=True)"
   ]
  },
  {
   "cell_type": "code",
   "execution_count": 19,
   "id": "4c4b5d08-0c8c-458a-8890-17cf7f35710d",
   "metadata": {},
   "outputs": [
    {
     "data": {
      "image/png": "[encoded data removed]",
      "text/plain": [
       "<Figure size 640x480 with 1 Axes>"
      ]
     },
     "metadata": {},
     "output_type": "display_data"
    }
   ],
   "source": [
    "#Plot the pie chart of education categories\n",
    "marketing_data.education.value_counts(normalize=True).plot.pie()\n",
    "plt.show()"
   ]
  },
  {
   "cell_type": "code",
   "execution_count": null,
   "id": "c87d8241-4b6c-4c26-90a3-6f0683f5d7fe",
   "metadata": {},
   "outputs": [],
   "source": []
  },
  {
   "cell_type": "markdown",
   "id": "318adb5b-254f-4d18-8337-9c1ba7afce0a",
   "metadata": {},
   "source": [
    "#### Question 5: Add titles and data labels to this plot"
   ]
  },
  {
   "cell_type": "code",
   "execution_count": null,
   "id": "581758d2-2e57-44d0-b232-8fafb2a6d514",
   "metadata": {},
   "outputs": [],
   "source": []
  },
  {
   "cell_type": "markdown",
   "id": "3958709c-5b9c-4a0f-a59c-9131215472a8",
   "metadata": {},
   "source": [
    "If the column or variable is ogf numerical then we'll analyze by calculating its mean, median, std, etc. Wr can get those calues ny using the ``describe()`` function."
   ]
  },
  {
   "cell_type": "code",
   "execution_count": 20,
   "id": "ac42a498-73b0-4fa6-a217-ade4b2a3c05b",
   "metadata": {},
   "outputs": [
    {
     "data": {
      "text/plain": [
       "count     45161.000000\n",
       "mean      57004.849317\n",
       "std       32087.698810\n",
       "min           0.000000\n",
       "25%       20000.000000\n",
       "50%       60000.000000\n",
       "75%       70000.000000\n",
       "max      120000.000000\n",
       "Name: salary, dtype: float64"
      ]
     },
     "execution_count": 20,
     "metadata": {},
     "output_type": "execute_result"
    }
   ],
   "source": [
    "#Apply describe() function to a salary varaible\n",
    "marketing_data.salary.describe()"
   ]
  },
  {
   "cell_type": "markdown",
   "id": "ad0f867b-a887-472c-a2a4-17d50378d0af",
   "metadata": {},
   "source": [
    "#### Question 6: Perform describe on all numerical columns in the dataset and comment on three most interesting observations"
   ]
  },
  {
   "cell_type": "code",
   "execution_count": null,
   "id": "d579d371-89d4-421f-8851-3c97816512f0",
   "metadata": {},
   "outputs": [],
   "source": []
  },
  {
   "cell_type": "markdown",
   "id": "e22fad30-4a80-4788-aedc-88a57d9c0614",
   "metadata": {},
   "source": [
    "## Bivariate Analysis"
   ]
  },
  {
   "cell_type": "markdown",
   "id": "339b8496-618f-4556-a3d5-16d5f6ce6295",
   "metadata": {},
   "source": [
    "#### Numeric-Numeric Analysis"
   ]
  },
  {
   "cell_type": "markdown",
   "id": "039ab290-026f-48b7-9973-40708d501081",
   "metadata": {},
   "source": [
    "We can analyze two numeric variables from a dataset in three different ways:\n",
    "* Scatter Plot\n",
    "* Pie Plot\n",
    "* Correlation Matrix"
   ]
  },
  {
   "cell_type": "code",
   "execution_count": 21,
   "id": "a0cfb3b5-ed8a-4273-9e67-830d6a437613",
   "metadata": {},
   "outputs": [
    {
     "data": {
      "image/png": "[encoded data removed]",
      "text/plain": [
       "<Figure size 640x480 with 1 Axes>"
      ]
     },
     "metadata": {},
     "output_type": "display_data"
    }
   ],
   "source": [
    "#Plot the scatter plot of balance and salary variable in de data\n",
    "plt.scatter(marketing_data.salary, marketing_data.balance)\n",
    "plt.show()"
   ]
  },
  {
   "cell_type": "code",
   "execution_count": 22,
   "id": "60067f92-15f7-489b-bbd0-1780a472ce05",
   "metadata": {},
   "outputs": [
    {
     "data": {
      "image/png": "[encoded data removed]",
      "text/plain": [
       "<Figure size 640x480 with 1 Axes>"
      ]
     },
     "metadata": {},
     "output_type": "display_data"
    }
   ],
   "source": [
    "#Plot the scatter plot of balace and age variables in data\n",
    "marketing_data.plot.scatter(x='age', y='balance')\n",
    "plt.show()"
   ]
  },
  {
   "cell_type": "markdown",
   "id": "a9d30475-13b9-45f5-8301-c054f21e6b1d",
   "metadata": {},
   "source": [
    "#### Question 7: Add plots formatting-axis titles and change dots formatting (color, size, transparency) so it is easier to observe data patterns"
   ]
  },
  {
   "cell_type": "code",
   "execution_count": null,
   "id": "95743709-92f5-4cd4-a275-3827785a01d5",
   "metadata": {},
   "outputs": [],
   "source": []
  },
  {
   "cell_type": "markdown",
   "id": "05183b57-ff52-47e4-b7e3-ea7f1d94bf74",
   "metadata": {},
   "source": [
    "Plot Pair Plots for the three columns we used in plotting Scatter plots. We'll use the seaborn library for plotting Pair Plots"
   ]
  },
  {
   "cell_type": "code",
   "execution_count": 23,
   "id": "1dcc81bc-f220-494b-a906-a024e8f48ef9",
   "metadata": {},
   "outputs": [
    {
     "data": {
      "image/png": "[encoded data removed]",
      "text/plain": [
       "<Figure size 750x750 with 12 Axes>"
      ]
     },
     "metadata": {},
     "output_type": "display_data"
    }
   ],
   "source": [
    "#plot the pair plot of salary, balance, and age in data dataframe\n",
    "sns.pairplot(data = marketing_data, vars=['salary', 'balance', 'age'])\n",
    "plt.show()"
   ]
  },
  {
   "cell_type": "markdown",
   "id": "53839f7f-f288-477f-a43c-e04276f1cc2d",
   "metadata": {},
   "source": [
    "We will use the correlation matrix for visualiation's sake. First we createa matrix using age, salary, and balance. Then, we are plottingthe heatmap usinf seaborn libray of the matrix."
   ]
  },
  {
   "cell_type": "code",
   "execution_count": 24,
   "id": "60a429d8-9f49-4e1f-a46c-342d6126e9b4",
   "metadata": {},
   "outputs": [
    {
     "data": {
      "image/png": "[encoded data removed]",
      "text/plain": [
       "<Figure size 640x480 with 2 Axes>"
      ]
     },
     "metadata": {},
     "output_type": "display_data"
    }
   ],
   "source": [
    "#Creating a matrix using age, salary, balance as rows and columns\n",
    "marketing_data[['age', 'salary', 'balance']].corr()\n",
    "\n",
    "#Plot the correaltion matrix of salary, balance, and age in dataframe\n",
    "sns.heatmap(marketing_data[['age', 'salary', 'balance']].corr(),\n",
    "            annot=True,\n",
    "            cmap = 'Reds')\n",
    "plt.show()"
   ]
  },
  {
   "cell_type": "markdown",
   "id": "68e50cda-cdfc-4ebc-8c1b-afb908eef9c9",
   "metadata": {},
   "source": [
    "### Numeric - Categorical Analysis\n",
    "Here, we will analyze one numeric variable and one categorical value. We do it mainly using mean, median and boxplots. Let's take salary response columns; first check for mean value using ``groupby``."
   ]
  },
  {
   "cell_type": "code",
   "execution_count": 25,
   "id": "1633f24f-312b-4c32-9d88-4a86ff28bba9",
   "metadata": {},
   "outputs": [
    {
     "data": {
      "text/plain": [
       "response\n",
       "no     56769.510482\n",
       "yes    58780.510880\n",
       "Name: salary, dtype: float64"
      ]
     },
     "execution_count": 25,
     "metadata": {},
     "output_type": "execute_result"
    }
   ],
   "source": [
    "#groupby the response to find the mean of the salary with response no & yes separetely\n",
    "marketing_data.groupby('response')['salary'].mean()"
   ]
  },
  {
   "cell_type": "markdown",
   "id": "1ee1d637-10e5-4cd7-b2c2-e3a94e55bab6",
   "metadata": {},
   "source": [
    "Not much difference. Lets' calculate the median"
   ]
  },
  {
   "cell_type": "code",
   "execution_count": 26,
   "id": "08a2eb1a-25de-4cde-82a2-e6a7271ead41",
   "metadata": {},
   "outputs": [
    {
     "data": {
      "text/plain": [
       "response\n",
       "no     60000.0\n",
       "yes    60000.0\n",
       "Name: salary, dtype: float64"
      ]
     },
     "execution_count": 26,
     "metadata": {},
     "output_type": "execute_result"
    }
   ],
   "source": [
    "#groupby the response to find the median of the salary with response no & yes separetely\n",
    "marketing_data.groupby('response')['salary'].median()\n"
   ]
  },
  {
   "cell_type": "markdown",
   "id": "c4c235c1-a220-4f09-8b52-3fd3b9d64461",
   "metadata": {},
   "source": [
    "For visualization's sake, let's plot the box plot for them and check behavior"
   ]
  },
  {
   "cell_type": "code",
   "execution_count": 30,
   "id": "bfb95e5b-34eb-49d5-85c1-24dfd5fa7659",
   "metadata": {},
   "outputs": [
    {
     "data": {
      "image/png": "[encoded data removed]",
      "text/plain": [
       "<Figure size 640x480 with 1 Axes>"
      ]
     },
     "metadata": {},
     "output_type": "display_data"
    }
   ],
   "source": [
    "#Plot the box plot of slalary for yes & no responses\n",
    "sns.boxplot(x=marketing_data.response, y=marketing_data.salary)\n",
    "plt.show()"
   ]
  },
  {
   "cell_type": "markdown",
   "id": "701e3c9b-2648-4f44-8b4d-b42c2878f9bd",
   "metadata": {},
   "source": [
    "#### Question 8: Seaborn library has variety of visualizations alternative to box plots aimign to analyze data distribution. Implement violin plots instead of box plots to look at the salary by response variable. Change colors on the plot usin one of the seaborn palettes"
   ]
  },
  {
   "cell_type": "code",
   "execution_count": null,
   "id": "c0ae2450-f025-4d28-a3de-fd0170bc77af",
   "metadata": {},
   "outputs": [],
   "source": []
  },
  {
   "cell_type": "code",
   "execution_count": null,
   "id": "253e6adc-45be-439a-b846-816f9d019ef1",
   "metadata": {},
   "outputs": [],
   "source": []
  },
  {
   "cell_type": "markdown",
   "id": "cbcbc30c-e92c-413f-a3ff-0275182806f4",
   "metadata": {},
   "source": [
    "### Categorical - Categorical Analysis\n",
    "We will see how different categories like Education, Marital Status, etc., are associated with the Response column. So instead of 'Yes' and 'No' we will convert them into '1', and '0', by doing tha we will get the 'Response Rate'.\n"
   ]
  },
  {
   "cell_type": "code",
   "execution_count": 32,
   "id": "b4c736fc-fb6a-4197-8b68-a77bc817cc83",
   "metadata": {},
   "outputs": [
    {
     "data": {
      "text/plain": [
       "response_rate\n",
       "1    39876\n",
       "0     5285\n",
       "Name: count, dtype: int64"
      ]
     },
     "execution_count": 32,
     "metadata": {},
     "output_type": "execute_result"
    }
   ],
   "source": [
    "#Create response rate of categorical data type where response 'yes'=1, 'no'=0\n",
    "\n",
    "marketing_data['response_rate'] = np.where(marketing_data.response=='yes', 0,1)\n",
    "marketing_data.response_rate.value_counts()"
   ]
  },
  {
   "cell_type": "markdown",
   "id": "f89c7e55-d30b-48e7-97f6-db377ec1bad2",
   "metadata": {},
   "source": [
    "Lets' see how the response rate varies for different categories in marital status."
   ]
  },
  {
   "cell_type": "code",
   "execution_count": 35,
   "id": "78fc94ef-747f-4140-8df8-8475ebf1c64b",
   "metadata": {},
   "outputs": [
    {
     "data": {
      "image/png": "[encoded data removed]",
      "text/plain": [
       "<Figure size 640x480 with 1 Axes>"
      ]
     },
     "metadata": {},
     "output_type": "display_data"
    }
   ],
   "source": [
    "#Plot the bar graph of marital status with average value of response rate\n",
    "marketing_data.groupby('marital')['response_rate'].mean().plot.bar()\n",
    "plt.show()                       "
   ]
  },
  {
   "cell_type": "markdown",
   "id": "c4ca7f98-eb26-43d2-9bd8-b4437f94fad2",
   "metadata": {},
   "source": [
    "#### Question 9: Add data labels and y-axis title and represent it as %"
   ]
  },
  {
   "cell_type": "code",
   "execution_count": null,
   "id": "a11aacd0-9cc1-423a-84fb-66ed8e9508d5",
   "metadata": {},
   "outputs": [],
   "source": []
  },
  {
   "cell_type": "markdown",
   "id": "a2d13731-4807-402c-90be-68a3fddebff5",
   "metadata": {},
   "source": [
    "By the above graph, we can infer that positive response is more for single status members in the data set."
   ]
  },
  {
   "cell_type": "markdown",
   "id": "3ea9b237-bfe4-4571-816d-8cfd77a495df",
   "metadata": {},
   "source": [
    "#### Question 10: Similarly plot the graphs for loan vs. Response rate, Housing loans vs. Response rate. Comment on your observayions."
   ]
  },
  {
   "cell_type": "code",
   "execution_count": null,
   "id": "7513f262-d3bd-4e9b-8055-cbcfdf4afc74",
   "metadata": {},
   "outputs": [],
   "source": []
  },
  {
   "cell_type": "markdown",
   "id": "a97afb7b-b3e7-4bb1-92ff-4663c9369c6d",
   "metadata": {},
   "source": [
    "### Multivariate Analysis\n",
    "Lets' how ``Education``, ``Marital``, and ``Response_rate``vary with each other. First, we'll create a pivot table with the three columns and after that, a heatmap."
   ]
  },
  {
   "cell_type": "code",
   "execution_count": 37,
   "id": "685467dd-bc4c-4532-898b-545fdc5db9cb",
   "metadata": {},
   "outputs": [
    {
     "name": "stdout",
     "output_type": "stream",
     "text": [
      "marital    divorced   married    single\n",
      "education                              \n",
      "primary    0.861148  0.924399  0.893192\n",
      "secondary  0.896441  0.905350  0.870729\n",
      "tertiary   0.862585  0.870165  0.816263\n",
      "unknown    0.857988  0.877481  0.837121\n"
     ]
    }
   ],
   "source": [
    "#Create a pivot table\n",
    "result = pd.pivot_table(data=marketing_data, index='education', \n",
    "                        columns='marital', \n",
    "                        values='response_rate')\n",
    "print(result)"
   ]
  },
  {
   "cell_type": "code",
   "execution_count": 44,
   "id": "78a34a3f-ec82-4fd2-9727-63243831b535",
   "metadata": {},
   "outputs": [
    {
     "data": {
      "image/png": "[encoded data removed]",
      "text/plain": [
       "<Figure size 640x480 with 2 Axes>"
      ]
     },
     "metadata": {},
     "output_type": "display_data"
    }
   ],
   "source": [
    "#Create a heatmap of education vs. marital status vs. response rate\n",
    "sns.heatmap(result, annot=True, cmap='RdYlGn', center=0.117)\n",
    "plt.show()"
   ]
  },
  {
   "cell_type": "markdown",
   "id": "7fb6e05c-6d23-4e4d-9187-d007e290abf8",
   "metadata": {},
   "source": [
    "Married people with primary education are less likely to respond positively for the survey and sigles's with tertiary education are most likely to responde positively to the survey."
   ]
  },
  {
   "cell_type": "markdown",
   "id": "dcc1ce7e-9a2c-4869-aad2-f137e50eae7f",
   "metadata": {},
   "source": [
    "#### Question 11: Similarly, plot the graphs for Job vs. Marital vs. Response, Education vs. poutcome vs. response. Comment your observations."
   ]
  },
  {
   "cell_type": "code",
   "execution_count": null,
   "id": "c6aa3b04-bce3-45b1-afef-f7f00be0271d",
   "metadata": {},
   "outputs": [],
   "source": []
  }
 ],
 "metadata": {
  "kernelspec": {
   "display_name": "Python 3 (ipykernel)",
   "language": "python",
   "name": "python3"
  },
  "language_info": {
   "codemirror_mode": {
    "name": "ipython",
    "version": 3
   },
   "file_extension": ".py",
   "mimetype": "text/x-python",
   "name": "python",
   "nbconvert_exporter": "python",
   "pygments_lexer": "ipython3",
   "version": "3.13.3"
  }
 },
 "nbformat": 4,
 "nbformat_minor": 5
}
